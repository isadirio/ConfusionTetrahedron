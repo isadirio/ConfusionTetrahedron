{
 "cells": [
  {
   "cell_type": "markdown",
   "id": "bea683cd",
   "metadata": {},
   "source": [
    "# 1. Loading and reading of the cleaned dataset "
   ]
  },
  {
   "cell_type": "code",
   "execution_count": 1,
   "id": "0f95b8cb",
   "metadata": {},
   "outputs": [],
   "source": [
    "#data\n",
    "import pandas as pd\n",
    "import numpy as np\n",
    "import matplotlib\n",
    "\n",
    "#viz\n",
    "import plotly\n",
    "from matplotlib import pyplot as plt\n",
    "import seaborn as sns\n",
    "import plotly.graph_objects as go\n",
    "from ipywidgets import widgets\n",
    "\n",
    "#computation\n",
    "import math\n",
    "import random \n",
    "from sklearn import svm\n",
    "from sklearn.model_selection import ShuffleSplit\n",
    "from sklearn.model_selection import StratifiedShuffleSplit"
   ]
  },
  {
   "cell_type": "code",
   "execution_count": 2,
   "id": "16976d5c",
   "metadata": {},
   "outputs": [],
   "source": [
    "#data = pd.read_csv('data/cleaned.csv', header = 0, on_bad_lines='skip')\n",
    "#data = data.drop(data.columns[0], axis=1)\n",
    "#there are only 25 features so no need to load only a subset of the features and no need to use chunksize"
   ]
  },
  {
   "cell_type": "code",
   "execution_count": 2,
   "id": "3b2f5c9f",
   "metadata": {},
   "outputs": [],
   "source": [
    "#starting dataset\n",
    "#data"
   ]
  },
  {
   "cell_type": "markdown",
   "id": "d17786c1",
   "metadata": {},
   "source": [
    "# 1. defining vector of target and vector of features"
   ]
  },
  {
   "cell_type": "code",
   "execution_count": 4,
   "id": "274e9064",
   "metadata": {},
   "outputs": [
    {
     "data": {
      "text/html": [
       "<div>\n",
       "<style scoped>\n",
       "    .dataframe tbody tr th:only-of-type {\n",
       "        vertical-align: middle;\n",
       "    }\n",
       "\n",
       "    .dataframe tbody tr th {\n",
       "        vertical-align: top;\n",
       "    }\n",
       "\n",
       "    .dataframe thead th {\n",
       "        text-align: right;\n",
       "    }\n",
       "</style>\n",
       "<table border=\"1\" class=\"dataframe\">\n",
       "  <thead>\n",
       "    <tr style=\"text-align: right;\">\n",
       "      <th></th>\n",
       "      <th>age</th>\n",
       "      <th>rbcc</th>\n",
       "      <th>pcv</th>\n",
       "      <th>hemo</th>\n",
       "      <th>bp</th>\n",
       "      <th>bgr</th>\n",
       "      <th>bu</th>\n",
       "      <th>sc</th>\n",
       "      <th>sod</th>\n",
       "      <th>pot</th>\n",
       "      <th>...</th>\n",
       "      <th>ba_present</th>\n",
       "      <th>pe_no</th>\n",
       "      <th>pe_yes</th>\n",
       "      <th>sg_1.005</th>\n",
       "      <th>sg_1.010</th>\n",
       "      <th>sg_1.015</th>\n",
       "      <th>sg_1.020</th>\n",
       "      <th>sg_1.025</th>\n",
       "      <th>pcc_notpresent</th>\n",
       "      <th>pcc_present</th>\n",
       "    </tr>\n",
       "  </thead>\n",
       "  <tbody>\n",
       "    <tr>\n",
       "      <th>0</th>\n",
       "      <td>-0.205954</td>\n",
       "      <td>0.583606</td>\n",
       "      <td>0.626585</td>\n",
       "      <td>1.043279</td>\n",
       "      <td>0.250168</td>\n",
       "      <td>-0.313799</td>\n",
       "      <td>-0.414139</td>\n",
       "      <td>-0.324225</td>\n",
       "      <td>0.040817</td>\n",
       "      <td>-0.064328</td>\n",
       "      <td>...</td>\n",
       "      <td>0</td>\n",
       "      <td>1</td>\n",
       "      <td>0</td>\n",
       "      <td>0</td>\n",
       "      <td>0</td>\n",
       "      <td>0</td>\n",
       "      <td>1</td>\n",
       "      <td>0</td>\n",
       "      <td>1</td>\n",
       "      <td>0</td>\n",
       "    </tr>\n",
       "    <tr>\n",
       "      <th>1</th>\n",
       "      <td>-2.640637</td>\n",
       "      <td>0.000000</td>\n",
       "      <td>-0.099558</td>\n",
       "      <td>-0.452605</td>\n",
       "      <td>-1.961241</td>\n",
       "      <td>-0.313799</td>\n",
       "      <td>-0.775077</td>\n",
       "      <td>-0.400624</td>\n",
       "      <td>0.040817</td>\n",
       "      <td>-0.064328</td>\n",
       "      <td>...</td>\n",
       "      <td>0</td>\n",
       "      <td>1</td>\n",
       "      <td>0</td>\n",
       "      <td>0</td>\n",
       "      <td>0</td>\n",
       "      <td>0</td>\n",
       "      <td>1</td>\n",
       "      <td>0</td>\n",
       "      <td>1</td>\n",
       "      <td>0</td>\n",
       "    </tr>\n",
       "    <tr>\n",
       "      <th>2</th>\n",
       "      <td>0.625402</td>\n",
       "      <td>0.000000</td>\n",
       "      <td>-0.946724</td>\n",
       "      <td>-1.072850</td>\n",
       "      <td>0.250168</td>\n",
       "      <td>3.719296</td>\n",
       "      <td>-0.073253</td>\n",
       "      <td>-0.209627</td>\n",
       "      <td>0.040817</td>\n",
       "      <td>-0.064328</td>\n",
       "      <td>...</td>\n",
       "      <td>0</td>\n",
       "      <td>1</td>\n",
       "      <td>0</td>\n",
       "      <td>0</td>\n",
       "      <td>1</td>\n",
       "      <td>0</td>\n",
       "      <td>0</td>\n",
       "      <td>0</td>\n",
       "      <td>1</td>\n",
       "      <td>0</td>\n",
       "    </tr>\n",
       "    <tr>\n",
       "      <th>3</th>\n",
       "      <td>-0.205954</td>\n",
       "      <td>-0.940620</td>\n",
       "      <td>-0.825700</td>\n",
       "      <td>-0.489090</td>\n",
       "      <td>-0.486968</td>\n",
       "      <td>-0.367217</td>\n",
       "      <td>-0.013096</td>\n",
       "      <td>0.172368</td>\n",
       "      <td>-2.843192</td>\n",
       "      <td>-0.726016</td>\n",
       "      <td>...</td>\n",
       "      <td>0</td>\n",
       "      <td>0</td>\n",
       "      <td>1</td>\n",
       "      <td>1</td>\n",
       "      <td>0</td>\n",
       "      <td>0</td>\n",
       "      <td>0</td>\n",
       "      <td>0</td>\n",
       "      <td>0</td>\n",
       "      <td>1</td>\n",
       "    </tr>\n",
       "    <tr>\n",
       "      <th>4</th>\n",
       "      <td>-0.027806</td>\n",
       "      <td>-0.119883</td>\n",
       "      <td>-0.462629</td>\n",
       "      <td>-0.343150</td>\n",
       "      <td>0.250168</td>\n",
       "      <td>-0.514118</td>\n",
       "      <td>-0.614660</td>\n",
       "      <td>-0.286026</td>\n",
       "      <td>0.040817</td>\n",
       "      <td>-0.064328</td>\n",
       "      <td>...</td>\n",
       "      <td>0</td>\n",
       "      <td>1</td>\n",
       "      <td>0</td>\n",
       "      <td>0</td>\n",
       "      <td>1</td>\n",
       "      <td>0</td>\n",
       "      <td>0</td>\n",
       "      <td>0</td>\n",
       "      <td>1</td>\n",
       "      <td>0</td>\n",
       "    </tr>\n",
       "    <tr>\n",
       "      <th>...</th>\n",
       "      <td>...</td>\n",
       "      <td>...</td>\n",
       "      <td>...</td>\n",
       "      <td>...</td>\n",
       "      <td>...</td>\n",
       "      <td>...</td>\n",
       "      <td>...</td>\n",
       "      <td>...</td>\n",
       "      <td>...</td>\n",
       "      <td>...</td>\n",
       "      <td>...</td>\n",
       "      <td>...</td>\n",
       "      <td>...</td>\n",
       "      <td>...</td>\n",
       "      <td>...</td>\n",
       "      <td>...</td>\n",
       "      <td>...</td>\n",
       "      <td>...</td>\n",
       "      <td>...</td>\n",
       "      <td>...</td>\n",
       "      <td>...</td>\n",
       "    </tr>\n",
       "    <tr>\n",
       "      <th>381</th>\n",
       "      <td>0.209724</td>\n",
       "      <td>0.231861</td>\n",
       "      <td>0.989656</td>\n",
       "      <td>1.152734</td>\n",
       "      <td>0.250168</td>\n",
       "      <td>-0.060061</td>\n",
       "      <td>-0.153461</td>\n",
       "      <td>-0.457924</td>\n",
       "      <td>1.322598</td>\n",
       "      <td>0.109800</td>\n",
       "      <td>...</td>\n",
       "      <td>0</td>\n",
       "      <td>1</td>\n",
       "      <td>0</td>\n",
       "      <td>0</td>\n",
       "      <td>0</td>\n",
       "      <td>0</td>\n",
       "      <td>1</td>\n",
       "      <td>0</td>\n",
       "      <td>1</td>\n",
       "      <td>0</td>\n",
       "    </tr>\n",
       "    <tr>\n",
       "      <th>382</th>\n",
       "      <td>-0.562249</td>\n",
       "      <td>1.756087</td>\n",
       "      <td>1.836822</td>\n",
       "      <td>1.444614</td>\n",
       "      <td>-0.486968</td>\n",
       "      <td>-0.928112</td>\n",
       "      <td>-0.514399</td>\n",
       "      <td>-0.324225</td>\n",
       "      <td>0.361262</td>\n",
       "      <td>-0.377759</td>\n",
       "      <td>...</td>\n",
       "      <td>0</td>\n",
       "      <td>1</td>\n",
       "      <td>0</td>\n",
       "      <td>0</td>\n",
       "      <td>0</td>\n",
       "      <td>0</td>\n",
       "      <td>0</td>\n",
       "      <td>1</td>\n",
       "      <td>1</td>\n",
       "      <td>0</td>\n",
       "    </tr>\n",
       "    <tr>\n",
       "      <th>383</th>\n",
       "      <td>-2.343724</td>\n",
       "      <td>0.818102</td>\n",
       "      <td>1.231703</td>\n",
       "      <td>1.189219</td>\n",
       "      <td>0.250168</td>\n",
       "      <td>-0.594246</td>\n",
       "      <td>-0.614660</td>\n",
       "      <td>-0.438824</td>\n",
       "      <td>-0.065998</td>\n",
       "      <td>-0.064328</td>\n",
       "      <td>...</td>\n",
       "      <td>0</td>\n",
       "      <td>1</td>\n",
       "      <td>0</td>\n",
       "      <td>0</td>\n",
       "      <td>0</td>\n",
       "      <td>0</td>\n",
       "      <td>1</td>\n",
       "      <td>0</td>\n",
       "      <td>1</td>\n",
       "      <td>0</td>\n",
       "    </tr>\n",
       "    <tr>\n",
       "      <th>384</th>\n",
       "      <td>-2.046812</td>\n",
       "      <td>1.404343</td>\n",
       "      <td>1.473751</td>\n",
       "      <td>0.605459</td>\n",
       "      <td>-1.224104</td>\n",
       "      <td>-0.407281</td>\n",
       "      <td>-0.133409</td>\n",
       "      <td>-0.362425</td>\n",
       "      <td>-0.279629</td>\n",
       "      <td>0.109800</td>\n",
       "      <td>...</td>\n",
       "      <td>0</td>\n",
       "      <td>1</td>\n",
       "      <td>0</td>\n",
       "      <td>0</td>\n",
       "      <td>0</td>\n",
       "      <td>0</td>\n",
       "      <td>0</td>\n",
       "      <td>1</td>\n",
       "      <td>1</td>\n",
       "      <td>0</td>\n",
       "    </tr>\n",
       "    <tr>\n",
       "      <th>385</th>\n",
       "      <td>0.387872</td>\n",
       "      <td>1.638839</td>\n",
       "      <td>1.715798</td>\n",
       "      <td>1.189219</td>\n",
       "      <td>0.250168</td>\n",
       "      <td>-0.180253</td>\n",
       "      <td>-0.775077</td>\n",
       "      <td>-0.343325</td>\n",
       "      <td>0.361262</td>\n",
       "      <td>-0.377759</td>\n",
       "      <td>...</td>\n",
       "      <td>0</td>\n",
       "      <td>1</td>\n",
       "      <td>0</td>\n",
       "      <td>0</td>\n",
       "      <td>0</td>\n",
       "      <td>0</td>\n",
       "      <td>0</td>\n",
       "      <td>1</td>\n",
       "      <td>1</td>\n",
       "      <td>0</td>\n",
       "    </tr>\n",
       "  </tbody>\n",
       "</table>\n",
       "<p>386 rows × 48 columns</p>\n",
       "</div>"
      ],
      "text/plain": [
       "          age      rbcc       pcv      hemo        bp       bgr        bu  \\\n",
       "0   -0.205954  0.583606  0.626585  1.043279  0.250168 -0.313799 -0.414139   \n",
       "1   -2.640637  0.000000 -0.099558 -0.452605 -1.961241 -0.313799 -0.775077   \n",
       "2    0.625402  0.000000 -0.946724 -1.072850  0.250168  3.719296 -0.073253   \n",
       "3   -0.205954 -0.940620 -0.825700 -0.489090 -0.486968 -0.367217 -0.013096   \n",
       "4   -0.027806 -0.119883 -0.462629 -0.343150  0.250168 -0.514118 -0.614660   \n",
       "..        ...       ...       ...       ...       ...       ...       ...   \n",
       "381  0.209724  0.231861  0.989656  1.152734  0.250168 -0.060061 -0.153461   \n",
       "382 -0.562249  1.756087  1.836822  1.444614 -0.486968 -0.928112 -0.514399   \n",
       "383 -2.343724  0.818102  1.231703  1.189219  0.250168 -0.594246 -0.614660   \n",
       "384 -2.046812  1.404343  1.473751  0.605459 -1.224104 -0.407281 -0.133409   \n",
       "385  0.387872  1.638839  1.715798  1.189219  0.250168 -0.180253 -0.775077   \n",
       "\n",
       "           sc       sod       pot  ...  ba_present  pe_no  pe_yes  sg_1.005  \\\n",
       "0   -0.324225  0.040817 -0.064328  ...           0      1       0         0   \n",
       "1   -0.400624  0.040817 -0.064328  ...           0      1       0         0   \n",
       "2   -0.209627  0.040817 -0.064328  ...           0      1       0         0   \n",
       "3    0.172368 -2.843192 -0.726016  ...           0      0       1         1   \n",
       "4   -0.286026  0.040817 -0.064328  ...           0      1       0         0   \n",
       "..        ...       ...       ...  ...         ...    ...     ...       ...   \n",
       "381 -0.457924  1.322598  0.109800  ...           0      1       0         0   \n",
       "382 -0.324225  0.361262 -0.377759  ...           0      1       0         0   \n",
       "383 -0.438824 -0.065998 -0.064328  ...           0      1       0         0   \n",
       "384 -0.362425 -0.279629  0.109800  ...           0      1       0         0   \n",
       "385 -0.343325  0.361262 -0.377759  ...           0      1       0         0   \n",
       "\n",
       "     sg_1.010  sg_1.015  sg_1.020  sg_1.025  pcc_notpresent  pcc_present  \n",
       "0           0         0         1         0               1            0  \n",
       "1           0         0         1         0               1            0  \n",
       "2           1         0         0         0               1            0  \n",
       "3           0         0         0         0               0            1  \n",
       "4           1         0         0         0               1            0  \n",
       "..        ...       ...       ...       ...             ...          ...  \n",
       "381         0         0         1         0               1            0  \n",
       "382         0         0         0         1               1            0  \n",
       "383         0         0         1         0               1            0  \n",
       "384         0         0         0         1               1            0  \n",
       "385         0         0         0         1               1            0  \n",
       "\n",
       "[386 rows x 48 columns]"
      ]
     },
     "execution_count": 4,
     "metadata": {},
     "output_type": "execute_result"
    }
   ],
   "source": [
    "#target variable\n",
    "#y = data['class']\n",
    "#y\n",
    "\n",
    "#predictors\n",
    "#x = data.copy()\n",
    "#x.drop('class', inplace=True, axis=1)\n",
    "#x"
   ]
  },
  {
   "cell_type": "code",
   "execution_count": 2,
   "id": "73d86888",
   "metadata": {},
   "outputs": [
    {
     "data": {
      "text/html": [
       "<div>\n",
       "<style scoped>\n",
       "    .dataframe tbody tr th:only-of-type {\n",
       "        vertical-align: middle;\n",
       "    }\n",
       "\n",
       "    .dataframe tbody tr th {\n",
       "        vertical-align: top;\n",
       "    }\n",
       "\n",
       "    .dataframe thead th {\n",
       "        text-align: right;\n",
       "    }\n",
       "</style>\n",
       "<table border=\"1\" class=\"dataframe\">\n",
       "  <thead>\n",
       "    <tr style=\"text-align: right;\">\n",
       "      <th></th>\n",
       "      <th>Time</th>\n",
       "      <th>V1</th>\n",
       "      <th>V2</th>\n",
       "      <th>V3</th>\n",
       "      <th>V4</th>\n",
       "      <th>V5</th>\n",
       "      <th>V6</th>\n",
       "      <th>V7</th>\n",
       "      <th>V8</th>\n",
       "      <th>V9</th>\n",
       "      <th>...</th>\n",
       "      <th>V20</th>\n",
       "      <th>V21</th>\n",
       "      <th>V22</th>\n",
       "      <th>V23</th>\n",
       "      <th>V24</th>\n",
       "      <th>V25</th>\n",
       "      <th>V26</th>\n",
       "      <th>V27</th>\n",
       "      <th>V28</th>\n",
       "      <th>Amount</th>\n",
       "    </tr>\n",
       "  </thead>\n",
       "  <tbody>\n",
       "    <tr>\n",
       "      <th>0</th>\n",
       "      <td>406.0</td>\n",
       "      <td>-2.312227</td>\n",
       "      <td>1.951992</td>\n",
       "      <td>-1.609851</td>\n",
       "      <td>3.997906</td>\n",
       "      <td>-0.522188</td>\n",
       "      <td>-1.426545</td>\n",
       "      <td>-2.537387</td>\n",
       "      <td>1.391657</td>\n",
       "      <td>-2.770089</td>\n",
       "      <td>...</td>\n",
       "      <td>0.126911</td>\n",
       "      <td>0.517232</td>\n",
       "      <td>-0.035049</td>\n",
       "      <td>-0.465211</td>\n",
       "      <td>0.320198</td>\n",
       "      <td>0.044519</td>\n",
       "      <td>0.177840</td>\n",
       "      <td>0.261145</td>\n",
       "      <td>-0.143276</td>\n",
       "      <td>0.00</td>\n",
       "    </tr>\n",
       "    <tr>\n",
       "      <th>1</th>\n",
       "      <td>472.0</td>\n",
       "      <td>-3.043541</td>\n",
       "      <td>-3.157307</td>\n",
       "      <td>1.088463</td>\n",
       "      <td>2.288644</td>\n",
       "      <td>1.359805</td>\n",
       "      <td>-1.064823</td>\n",
       "      <td>0.325574</td>\n",
       "      <td>-0.067794</td>\n",
       "      <td>-0.270953</td>\n",
       "      <td>...</td>\n",
       "      <td>2.102339</td>\n",
       "      <td>0.661696</td>\n",
       "      <td>0.435477</td>\n",
       "      <td>1.375966</td>\n",
       "      <td>-0.293803</td>\n",
       "      <td>0.279798</td>\n",
       "      <td>-0.145362</td>\n",
       "      <td>-0.252773</td>\n",
       "      <td>0.035764</td>\n",
       "      <td>529.00</td>\n",
       "    </tr>\n",
       "    <tr>\n",
       "      <th>2</th>\n",
       "      <td>4462.0</td>\n",
       "      <td>-2.303350</td>\n",
       "      <td>1.759247</td>\n",
       "      <td>-0.359745</td>\n",
       "      <td>2.330243</td>\n",
       "      <td>-0.821628</td>\n",
       "      <td>-0.075788</td>\n",
       "      <td>0.562320</td>\n",
       "      <td>-0.399147</td>\n",
       "      <td>-0.238253</td>\n",
       "      <td>...</td>\n",
       "      <td>-0.430022</td>\n",
       "      <td>-0.294166</td>\n",
       "      <td>-0.932391</td>\n",
       "      <td>0.172726</td>\n",
       "      <td>-0.087330</td>\n",
       "      <td>-0.156114</td>\n",
       "      <td>-0.542628</td>\n",
       "      <td>0.039566</td>\n",
       "      <td>-0.153029</td>\n",
       "      <td>239.93</td>\n",
       "    </tr>\n",
       "    <tr>\n",
       "      <th>3</th>\n",
       "      <td>6986.0</td>\n",
       "      <td>-4.397974</td>\n",
       "      <td>1.358367</td>\n",
       "      <td>-2.592844</td>\n",
       "      <td>2.679787</td>\n",
       "      <td>-1.128131</td>\n",
       "      <td>-1.706536</td>\n",
       "      <td>-3.496197</td>\n",
       "      <td>-0.248778</td>\n",
       "      <td>-0.247768</td>\n",
       "      <td>...</td>\n",
       "      <td>-0.171608</td>\n",
       "      <td>0.573574</td>\n",
       "      <td>0.176968</td>\n",
       "      <td>-0.436207</td>\n",
       "      <td>-0.053502</td>\n",
       "      <td>0.252405</td>\n",
       "      <td>-0.657488</td>\n",
       "      <td>-0.827136</td>\n",
       "      <td>0.849573</td>\n",
       "      <td>59.00</td>\n",
       "    </tr>\n",
       "    <tr>\n",
       "      <th>4</th>\n",
       "      <td>7519.0</td>\n",
       "      <td>1.234235</td>\n",
       "      <td>3.019740</td>\n",
       "      <td>-4.304597</td>\n",
       "      <td>4.732795</td>\n",
       "      <td>3.624201</td>\n",
       "      <td>-1.357746</td>\n",
       "      <td>1.713445</td>\n",
       "      <td>-0.496358</td>\n",
       "      <td>-1.282858</td>\n",
       "      <td>...</td>\n",
       "      <td>0.009061</td>\n",
       "      <td>-0.379068</td>\n",
       "      <td>-0.704181</td>\n",
       "      <td>-0.656805</td>\n",
       "      <td>-1.632653</td>\n",
       "      <td>1.488901</td>\n",
       "      <td>0.566797</td>\n",
       "      <td>-0.010016</td>\n",
       "      <td>0.146793</td>\n",
       "      <td>1.00</td>\n",
       "    </tr>\n",
       "    <tr>\n",
       "      <th>...</th>\n",
       "      <td>...</td>\n",
       "      <td>...</td>\n",
       "      <td>...</td>\n",
       "      <td>...</td>\n",
       "      <td>...</td>\n",
       "      <td>...</td>\n",
       "      <td>...</td>\n",
       "      <td>...</td>\n",
       "      <td>...</td>\n",
       "      <td>...</td>\n",
       "      <td>...</td>\n",
       "      <td>...</td>\n",
       "      <td>...</td>\n",
       "      <td>...</td>\n",
       "      <td>...</td>\n",
       "      <td>...</td>\n",
       "      <td>...</td>\n",
       "      <td>...</td>\n",
       "      <td>...</td>\n",
       "      <td>...</td>\n",
       "      <td>...</td>\n",
       "    </tr>\n",
       "    <tr>\n",
       "      <th>315</th>\n",
       "      <td>210.0</td>\n",
       "      <td>1.293927</td>\n",
       "      <td>0.338071</td>\n",
       "      <td>-0.042759</td>\n",
       "      <td>0.502134</td>\n",
       "      <td>0.072283</td>\n",
       "      <td>-0.583458</td>\n",
       "      <td>0.123779</td>\n",
       "      <td>-0.187468</td>\n",
       "      <td>0.001883</td>\n",
       "      <td>...</td>\n",
       "      <td>0.005473</td>\n",
       "      <td>-0.329233</td>\n",
       "      <td>-0.942139</td>\n",
       "      <td>0.008264</td>\n",
       "      <td>-0.492104</td>\n",
       "      <td>0.342975</td>\n",
       "      <td>0.143926</td>\n",
       "      <td>-0.022441</td>\n",
       "      <td>0.025373</td>\n",
       "      <td>12.99</td>\n",
       "    </tr>\n",
       "    <tr>\n",
       "      <th>316</th>\n",
       "      <td>211.0</td>\n",
       "      <td>0.263523</td>\n",
       "      <td>-1.812897</td>\n",
       "      <td>-0.311087</td>\n",
       "      <td>0.412930</td>\n",
       "      <td>-0.794605</td>\n",
       "      <td>0.196365</td>\n",
       "      <td>0.416626</td>\n",
       "      <td>-0.062991</td>\n",
       "      <td>0.345392</td>\n",
       "      <td>...</td>\n",
       "      <td>1.010958</td>\n",
       "      <td>0.002672</td>\n",
       "      <td>-1.042342</td>\n",
       "      <td>-0.480538</td>\n",
       "      <td>-0.414743</td>\n",
       "      <td>0.111706</td>\n",
       "      <td>0.819590</td>\n",
       "      <td>-0.168906</td>\n",
       "      <td>0.078203</td>\n",
       "      <td>526.96</td>\n",
       "    </tr>\n",
       "    <tr>\n",
       "      <th>317</th>\n",
       "      <td>211.0</td>\n",
       "      <td>-0.247827</td>\n",
       "      <td>-0.282682</td>\n",
       "      <td>1.653354</td>\n",
       "      <td>-1.014865</td>\n",
       "      <td>-0.680433</td>\n",
       "      <td>0.886364</td>\n",
       "      <td>-0.538201</td>\n",
       "      <td>0.377970</td>\n",
       "      <td>-1.230879</td>\n",
       "      <td>...</td>\n",
       "      <td>0.373669</td>\n",
       "      <td>0.545696</td>\n",
       "      <td>1.400962</td>\n",
       "      <td>-0.133992</td>\n",
       "      <td>-0.810782</td>\n",
       "      <td>-0.348544</td>\n",
       "      <td>0.093031</td>\n",
       "      <td>0.165626</td>\n",
       "      <td>0.130422</td>\n",
       "      <td>70.00</td>\n",
       "    </tr>\n",
       "    <tr>\n",
       "      <th>318</th>\n",
       "      <td>213.0</td>\n",
       "      <td>-0.263380</td>\n",
       "      <td>0.959103</td>\n",
       "      <td>0.285740</td>\n",
       "      <td>0.604068</td>\n",
       "      <td>3.228820</td>\n",
       "      <td>3.799503</td>\n",
       "      <td>0.715285</td>\n",
       "      <td>0.429148</td>\n",
       "      <td>-1.155492</td>\n",
       "      <td>...</td>\n",
       "      <td>0.139952</td>\n",
       "      <td>-0.015245</td>\n",
       "      <td>0.059111</td>\n",
       "      <td>-0.291825</td>\n",
       "      <td>0.992903</td>\n",
       "      <td>-0.128938</td>\n",
       "      <td>-0.111063</td>\n",
       "      <td>-0.340206</td>\n",
       "      <td>-0.310297</td>\n",
       "      <td>4.38</td>\n",
       "    </tr>\n",
       "    <tr>\n",
       "      <th>319</th>\n",
       "      <td>215.0</td>\n",
       "      <td>1.087792</td>\n",
       "      <td>-0.143548</td>\n",
       "      <td>1.374291</td>\n",
       "      <td>1.287399</td>\n",
       "      <td>-1.100642</td>\n",
       "      <td>-0.017110</td>\n",
       "      <td>-0.705609</td>\n",
       "      <td>0.266580</td>\n",
       "      <td>0.735368</td>\n",
       "      <td>...</td>\n",
       "      <td>-0.172534</td>\n",
       "      <td>-0.003904</td>\n",
       "      <td>0.112285</td>\n",
       "      <td>0.014104</td>\n",
       "      <td>0.512268</td>\n",
       "      <td>0.329602</td>\n",
       "      <td>-0.436531</td>\n",
       "      <td>0.063250</td>\n",
       "      <td>0.029067</td>\n",
       "      <td>12.99</td>\n",
       "    </tr>\n",
       "  </tbody>\n",
       "</table>\n",
       "<p>320 rows × 30 columns</p>\n",
       "</div>"
      ],
      "text/plain": [
       "       Time        V1        V2        V3        V4        V5        V6  \\\n",
       "0     406.0 -2.312227  1.951992 -1.609851  3.997906 -0.522188 -1.426545   \n",
       "1     472.0 -3.043541 -3.157307  1.088463  2.288644  1.359805 -1.064823   \n",
       "2    4462.0 -2.303350  1.759247 -0.359745  2.330243 -0.821628 -0.075788   \n",
       "3    6986.0 -4.397974  1.358367 -2.592844  2.679787 -1.128131 -1.706536   \n",
       "4    7519.0  1.234235  3.019740 -4.304597  4.732795  3.624201 -1.357746   \n",
       "..      ...       ...       ...       ...       ...       ...       ...   \n",
       "315   210.0  1.293927  0.338071 -0.042759  0.502134  0.072283 -0.583458   \n",
       "316   211.0  0.263523 -1.812897 -0.311087  0.412930 -0.794605  0.196365   \n",
       "317   211.0 -0.247827 -0.282682  1.653354 -1.014865 -0.680433  0.886364   \n",
       "318   213.0 -0.263380  0.959103  0.285740  0.604068  3.228820  3.799503   \n",
       "319   215.0  1.087792 -0.143548  1.374291  1.287399 -1.100642 -0.017110   \n",
       "\n",
       "           V7        V8        V9  ...       V20       V21       V22  \\\n",
       "0   -2.537387  1.391657 -2.770089  ...  0.126911  0.517232 -0.035049   \n",
       "1    0.325574 -0.067794 -0.270953  ...  2.102339  0.661696  0.435477   \n",
       "2    0.562320 -0.399147 -0.238253  ... -0.430022 -0.294166 -0.932391   \n",
       "3   -3.496197 -0.248778 -0.247768  ... -0.171608  0.573574  0.176968   \n",
       "4    1.713445 -0.496358 -1.282858  ...  0.009061 -0.379068 -0.704181   \n",
       "..        ...       ...       ...  ...       ...       ...       ...   \n",
       "315  0.123779 -0.187468  0.001883  ...  0.005473 -0.329233 -0.942139   \n",
       "316  0.416626 -0.062991  0.345392  ...  1.010958  0.002672 -1.042342   \n",
       "317 -0.538201  0.377970 -1.230879  ...  0.373669  0.545696  1.400962   \n",
       "318  0.715285  0.429148 -1.155492  ...  0.139952 -0.015245  0.059111   \n",
       "319 -0.705609  0.266580  0.735368  ... -0.172534 -0.003904  0.112285   \n",
       "\n",
       "          V23       V24       V25       V26       V27       V28  Amount  \n",
       "0   -0.465211  0.320198  0.044519  0.177840  0.261145 -0.143276    0.00  \n",
       "1    1.375966 -0.293803  0.279798 -0.145362 -0.252773  0.035764  529.00  \n",
       "2    0.172726 -0.087330 -0.156114 -0.542628  0.039566 -0.153029  239.93  \n",
       "3   -0.436207 -0.053502  0.252405 -0.657488 -0.827136  0.849573   59.00  \n",
       "4   -0.656805 -1.632653  1.488901  0.566797 -0.010016  0.146793    1.00  \n",
       "..        ...       ...       ...       ...       ...       ...     ...  \n",
       "315  0.008264 -0.492104  0.342975  0.143926 -0.022441  0.025373   12.99  \n",
       "316 -0.480538 -0.414743  0.111706  0.819590 -0.168906  0.078203  526.96  \n",
       "317 -0.133992 -0.810782 -0.348544  0.093031  0.165626  0.130422   70.00  \n",
       "318 -0.291825  0.992903 -0.128938 -0.111063 -0.340206 -0.310297    4.38  \n",
       "319  0.014104  0.512268  0.329602 -0.436531  0.063250  0.029067   12.99  \n",
       "\n",
       "[320 rows x 30 columns]"
      ]
     },
     "execution_count": 2,
     "metadata": {},
     "output_type": "execute_result"
    }
   ],
   "source": [
    "unbalanced_data = pd.read_csv('data/creditcard.csv', header = 0, on_bad_lines='skip')\n",
    "\n",
    "\n",
    "#mi creo un dataset sbilanciato ma che sia solo un subset del dataset originario che ha molti record\n",
    "#e per me al momento è più importante arrivare a una predizione \n",
    "\n",
    "positives = unbalanced_data[unbalanced_data['Class']==1].head(20)\n",
    "negatives = unbalanced_data[unbalanced_data['Class']==0].head(300)\n",
    "\n",
    "data = pd.concat([positives, negatives],ignore_index=True)\n",
    "data.to_csv('./creditcard_portion.csv', index=False)\n",
    "\n",
    "#target variable\n",
    "y = data['Class']\n",
    "y\n",
    "\n",
    "#predictors\n",
    "x = data.copy()\n",
    "x.drop('Class', inplace=True, axis=1)\n",
    "x"
   ]
  },
  {
   "cell_type": "markdown",
   "id": "2bbceec1",
   "metadata": {},
   "source": [
    "# 2. rationale, creation of M1 & M2, generation of the points"
   ]
  },
  {
   "cell_type": "markdown",
   "id": "6061b697",
   "metadata": {},
   "source": [
    "The idea here is to use the CT to visually compare the performance of a classifier in\n",
    "two different resampling strategies, with and without stratification. Thus, first we build\n",
    "(or find on the UCI for instance) an unbalanced dataset D, with XX samples of class 0\n",
    "and YY samples of class 1"
   ]
  },
  {
   "cell_type": "code",
   "execution_count": 3,
   "id": "5bfd1c83",
   "metadata": {},
   "outputs": [
    {
     "name": "stdout",
     "output_type": "stream",
     "text": [
      "Portion of negatives: 0.94\n",
      "Portion of positives: 0.06\n"
     ]
    }
   ],
   "source": [
    "#definiamo XX =samples of class 0\n",
    "#and       YY = samples of class 1\n",
    "\n",
    "S = data.shape[0]\n",
    "\n",
    "XX = data[data['Class']==0].shape[0] \n",
    "print(\"Portion of negatives:\", round(XX/S,2))\n",
    "YY = data[data['Class']==1].shape[0]\n",
    "print(\"Portion of positives:\", round(YY/S,2))\n"
   ]
  },
  {
   "cell_type": "markdown",
   "id": "58233223",
   "metadata": {},
   "source": [
    "Then we build two sets M1, M2 of Montecarlo CV sets, each\n",
    "consisting of 100 random splits of the original dataset D: M1 = {(T1i ,V 1i ) : 1 ≤i ≤100}\n",
    "and M2 = {(T2i ,V 2i ) : 1 ≤ i ≤ j}, such that, for each i, Tki includes a random 75% (or a\n",
    "different percentage) of D and V ki the remaining 25%, with the difference that, for k = 1\n",
    "the split is completely random (not stratified), while for k = 2 the split is stratified, thus in\n",
    "both T2i and V 2i the ratio between the samples of class 0 and the samples of class 1 is the\n",
    "same as in the original dataset D."
   ]
  },
  {
   "cell_type": "markdown",
   "id": "849abb10",
   "metadata": {},
   "source": [
    "Then we train a model (SVM, RF, etc) on $T^k_i$ and we apply it on $V^k_i$, computing the resulting performance (e.g., by MCC) on $V^k_i$.\n",
    "Thus we end up with 100 values of MCC for the splits $M_1$ and 100 values of MCC for the splits $M_2$: now we put these points on the CT, and we should results in two clusters of points well separated, and those for the stratified case should be much better, in terms of performance, than those for the non stratified."
   ]
  },
  {
   "cell_type": "code",
   "execution_count": 5,
   "id": "ba0bc5b1",
   "metadata": {},
   "outputs": [],
   "source": [
    "\n",
    "#quindi mi devo creare due set: \n",
    "# M1 - T_i,V_i top1 rispettivamente 75% e 25% -> 100 splits dello stesso dataset MA *stratified* (= mantiene proporzione tra 0 e 1 among training and validation)\n",
    "\n",
    "\n",
    "# M2 - T_i,V_i top2 rispettivamente 75% e 25% -> 100s splits dello stesso dataset MA *random* (=non mantiene proporzione tra 0 e 1 among training and validation)\n",
    "\n",
    "\n",
    "#èer ciascuno dei 200 datasets alleno un modello - >ottengo 200 confusion matrices -> queste confusion matrices le turn into ct coordinates \n",
    "\n",
    "#una volta ottenute le coordinate ci calcolo mcc e dovrò vedere che quelli dello stratified hanno tutti stesso colore \n",
    "#del MCC più alto di tutti i 1000 punti associati al random che avranno colore più basso \n",
    "\n"
   ]
  },
  {
   "cell_type": "code",
   "execution_count": 6,
   "id": "cc4f604a",
   "metadata": {},
   "outputs": [],
   "source": [
    "#run Montecarlo simulation\n",
    "\n",
    "#from sklearn.model_selection import ShuffleSplit\n",
    "#from sklearn.model_selection import StratifiedShuffleSplit    #returns stratified randomized folds\n",
    "\n",
    "#inizio con 10 split poi aumento\n"
   ]
  },
  {
   "cell_type": "code",
   "execution_count": 4,
   "id": "9313b03b",
   "metadata": {},
   "outputs": [],
   "source": [
    "#mi definisco la funzione che poi uso a ogni fit del modello per confrontare predizioni con actual \n",
    "\n",
    "def generate_matrix_entries(y_actual, y_hat): #per generarmi la matrice in ogni volta che giro \n",
    "    TP = 0\n",
    "    FP = 0\n",
    "    TN = 0\n",
    "    FN = 0\n",
    "\n",
    "    for i in range(len(y_hat)): \n",
    "        if y_actual[i]==y_hat[i]==1:                #se prediction = actual = 1 -> TP\n",
    "           TP += 1\n",
    "        if y_hat[i]==1 and y_actual[i]!=y_hat[i]:   #se prediction = 1 but different from the actual -> FP\n",
    "           FP += 1\n",
    "        if y_actual[i]==y_hat[i]==0:                #se prediction = actual = 0 -> TN\n",
    "           TN += 1\n",
    "        if y_hat[i]==0 and y_actual[i]!=y_hat[i]:   #se prediction = 0 but different from the actual -> FN\n",
    "           FN += 1\n",
    "\n",
    "    return (TN,FP,FN,TP)"
   ]
  },
  {
   "cell_type": "markdown",
   "id": "3f8171e3",
   "metadata": {},
   "source": [
    "## 2.1 Coordinates for the 100 models with STRATIFIED resampling  "
   ]
  },
  {
   "cell_type": "markdown",
   "id": "6f04a475",
   "metadata": {},
   "source": [
    "if stratified k= 2 -> both training and validation the ratio between the samples of class 0 and the sample 1 is the same as in the original dataset ----> those for stratified case should be much better in terms of performance than non stratified"
   ]
  },
  {
   "cell_type": "code",
   "execution_count": 6,
   "id": "425a5927",
   "metadata": {},
   "outputs": [],
   "source": [
    "# M1 - T_i,V_i top1 rispettivamente 75% e 25% -> 100 splits dello stesso dataset MA *stratified* (= mantiene proporzione tra 0 e 1 among training and validation)\n",
    "\n",
    "ss = StratifiedShuffleSplit(n_splits=10, test_size=.25, random_state=0) #stratified -> M1\n"
   ]
  },
  {
   "cell_type": "code",
   "execution_count": 9,
   "id": "0e139b81",
   "metadata": {},
   "outputs": [
    {
     "data": {
      "text/plain": [
       "\"\\n\\nss_nCM =[]\\n\\nss_MCC =[]\\n\\n\\n\\nfor strat_train_index, strat_test_index in ss.split(x, y): \\n    strat_train_set_x = x.loc[strat_train_index]  \\n    strat_test_set_x = x.loc[strat_test_index]\\n    \\n    strat_train_set_y = y.loc[strat_train_index]\\n    strat_test_set_y = y.loc[strat_test_index]\\n    \\n \\n    logreg = LogisticRegression()\\n\\n\\n    logreg.fit(strat_train_set_x, strat_train_set_y)\\n\\n    y_pred = np.array(logreg.predict(strat_test_set_x))\\n    \\n    (TN, FP, FN, TP) = generate_matrix_entries(strat_test_set_y.values, y_pred)\\n    \\n    N = sum([TN, FP, FN, TP])\\n    each_CM = np.array([TN, FP,FN, TP])\\n\\n    each_nCM = each_CM/N\\n    ss_nCM.append(each_nCM)\\n    \\n    \\n    each_MCC = (TP*TN -FP*FN)/math.sqrt((TP+FP)*(TP+FN)*(TN+FP)*(TN+FN))\\n    ss_MCC.append(each_MCC)\\n    \\n    \\n#ss_nCM #qui ho le due (che poi saranno 100 nCM)\\n\\nPD_ss_nCM = pd.DataFrame(ss_nCM) \\n\\n\\nSS_coords = PD_ss_nCM.drop([2],axis=1) #coordinata di FN non ci interessa\\n\\nSS_coords.rename({0: 'TN', 1: 'FP', 3: 'TP'}, axis=1, inplace=True)\\n\\nSS_coords['MCC']= ss_MCC\\n                                        \\nSS_coords\\n\\n\""
      ]
     },
     "execution_count": 9,
     "metadata": {},
     "output_type": "execute_result"
    }
   ],
   "source": [
    "#CON LINEAR REGRESSION - non lo fa\n",
    "\"\"\"\n",
    "\n",
    "ss_nCM =[]\n",
    "\n",
    "ss_MCC =[]\n",
    "\n",
    "\n",
    "\n",
    "for strat_train_index, strat_test_index in ss.split(x, y): \n",
    "    strat_train_set_x = x.loc[strat_train_index]  \n",
    "    strat_test_set_x = x.loc[strat_test_index]\n",
    "    \n",
    "    strat_train_set_y = y.loc[strat_train_index]\n",
    "    strat_test_set_y = y.loc[strat_test_index]\n",
    "    \n",
    " \n",
    "    logreg = LogisticRegression()\n",
    "\n",
    "\n",
    "    logreg.fit(strat_train_set_x, strat_train_set_y)\n",
    "\n",
    "    y_pred = np.array(logreg.predict(strat_test_set_x))\n",
    "    \n",
    "    (TN, FP, FN, TP) = generate_matrix_entries(strat_test_set_y.values, y_pred)\n",
    "    \n",
    "    N = sum([TN, FP, FN, TP])\n",
    "    each_CM = np.array([TN, FP,FN, TP])\n",
    "\n",
    "    each_nCM = each_CM/N\n",
    "    ss_nCM.append(each_nCM)\n",
    "    \n",
    "    \n",
    "    each_MCC = (TP*TN -FP*FN)/math.sqrt((TP+FP)*(TP+FN)*(TN+FP)*(TN+FN))\n",
    "    ss_MCC.append(each_MCC)\n",
    "    \n",
    "    \n",
    "#ss_nCM #qui ho le due (che poi saranno 100 nCM)\n",
    "\n",
    "PD_ss_nCM = pd.DataFrame(ss_nCM) \n",
    "\n",
    "\n",
    "SS_coords = PD_ss_nCM.drop([2],axis=1) #coordinata di FN non ci interessa\n",
    "\n",
    "SS_coords.rename({0: 'TN', 1: 'FP', 3: 'TP'}, axis=1, inplace=True)\n",
    "\n",
    "SS_coords['MCC']= ss_MCC\n",
    "                                        \n",
    "SS_coords\n",
    "\n",
    "\"\"\""
   ]
  },
  {
   "cell_type": "code",
   "execution_count": 7,
   "id": "963e6a7d",
   "metadata": {},
   "outputs": [
    {
     "data": {
      "text/html": [
       "<div>\n",
       "<style scoped>\n",
       "    .dataframe tbody tr th:only-of-type {\n",
       "        vertical-align: middle;\n",
       "    }\n",
       "\n",
       "    .dataframe tbody tr th {\n",
       "        vertical-align: top;\n",
       "    }\n",
       "\n",
       "    .dataframe thead th {\n",
       "        text-align: right;\n",
       "    }\n",
       "</style>\n",
       "<table border=\"1\" class=\"dataframe\">\n",
       "  <thead>\n",
       "    <tr style=\"text-align: right;\">\n",
       "      <th></th>\n",
       "      <th>TN</th>\n",
       "      <th>FP</th>\n",
       "      <th>TP</th>\n",
       "      <th>MCC</th>\n",
       "    </tr>\n",
       "  </thead>\n",
       "  <tbody>\n",
       "    <tr>\n",
       "      <th>0</th>\n",
       "      <td>0.9375</td>\n",
       "      <td>0.0</td>\n",
       "      <td>0.0625</td>\n",
       "      <td>1.000000</td>\n",
       "    </tr>\n",
       "    <tr>\n",
       "      <th>1</th>\n",
       "      <td>0.9375</td>\n",
       "      <td>0.0</td>\n",
       "      <td>0.0625</td>\n",
       "      <td>1.000000</td>\n",
       "    </tr>\n",
       "    <tr>\n",
       "      <th>2</th>\n",
       "      <td>0.9375</td>\n",
       "      <td>0.0</td>\n",
       "      <td>0.0375</td>\n",
       "      <td>0.764471</td>\n",
       "    </tr>\n",
       "    <tr>\n",
       "      <th>3</th>\n",
       "      <td>0.9375</td>\n",
       "      <td>0.0</td>\n",
       "      <td>0.0625</td>\n",
       "      <td>1.000000</td>\n",
       "    </tr>\n",
       "    <tr>\n",
       "      <th>4</th>\n",
       "      <td>0.9375</td>\n",
       "      <td>0.0</td>\n",
       "      <td>0.0625</td>\n",
       "      <td>1.000000</td>\n",
       "    </tr>\n",
       "    <tr>\n",
       "      <th>5</th>\n",
       "      <td>0.9375</td>\n",
       "      <td>0.0</td>\n",
       "      <td>0.0625</td>\n",
       "      <td>1.000000</td>\n",
       "    </tr>\n",
       "    <tr>\n",
       "      <th>6</th>\n",
       "      <td>0.9375</td>\n",
       "      <td>0.0</td>\n",
       "      <td>0.0625</td>\n",
       "      <td>1.000000</td>\n",
       "    </tr>\n",
       "    <tr>\n",
       "      <th>7</th>\n",
       "      <td>0.9375</td>\n",
       "      <td>0.0</td>\n",
       "      <td>0.0625</td>\n",
       "      <td>1.000000</td>\n",
       "    </tr>\n",
       "    <tr>\n",
       "      <th>8</th>\n",
       "      <td>0.9375</td>\n",
       "      <td>0.0</td>\n",
       "      <td>0.0625</td>\n",
       "      <td>1.000000</td>\n",
       "    </tr>\n",
       "    <tr>\n",
       "      <th>9</th>\n",
       "      <td>0.9375</td>\n",
       "      <td>0.0</td>\n",
       "      <td>0.0625</td>\n",
       "      <td>1.000000</td>\n",
       "    </tr>\n",
       "  </tbody>\n",
       "</table>\n",
       "</div>"
      ],
      "text/plain": [
       "       TN   FP      TP       MCC\n",
       "0  0.9375  0.0  0.0625  1.000000\n",
       "1  0.9375  0.0  0.0625  1.000000\n",
       "2  0.9375  0.0  0.0375  0.764471\n",
       "3  0.9375  0.0  0.0625  1.000000\n",
       "4  0.9375  0.0  0.0625  1.000000\n",
       "5  0.9375  0.0  0.0625  1.000000\n",
       "6  0.9375  0.0  0.0625  1.000000\n",
       "7  0.9375  0.0  0.0625  1.000000\n",
       "8  0.9375  0.0  0.0625  1.000000\n",
       "9  0.9375  0.0  0.0625  1.000000"
      ]
     },
     "execution_count": 7,
     "metadata": {},
     "output_type": "execute_result"
    }
   ],
   "source": [
    "#CON SUPPORT VECTOR MACHINES - esce finchè sono con k=5 appena salgo non ce la fa \n",
    "#per stratified riesce anche con 10 ma non per random --> poi risolto\n",
    "\n",
    "ss_nCM =[]\n",
    "\n",
    "ss_MCC =[]\n",
    "\n",
    "\n",
    "\n",
    "for strat_train_index, strat_test_index in ss.split(x, y): \n",
    "    strat_train_set_x = x.loc[strat_train_index]  \n",
    "    strat_test_set_x = x.loc[strat_test_index]\n",
    "    \n",
    "    strat_train_set_y = y.loc[strat_train_index]\n",
    "    strat_test_set_y = y.loc[strat_test_index]\n",
    "    \n",
    "\n",
    "    vect = svm.SVC(kernel='linear')\n",
    "\n",
    "    vect.fit(strat_train_set_x, strat_train_set_y)\n",
    "\n",
    "    y_pred = np.array(vect.predict(strat_test_set_x))\n",
    "    \n",
    "    (TN, FP, FN, TP) = generate_matrix_entries(strat_test_set_y.values, y_pred)\n",
    "    \n",
    "    N = sum([TN, FP, FN, TP])\n",
    "    each_CM = np.array([TN, FP,FN, TP])\n",
    "\n",
    "    each_nCM = each_CM/N\n",
    "    ss_nCM.append(each_nCM)\n",
    "    \n",
    "    \n",
    "    each_MCC = (TP*TN -FP*FN)/math.sqrt((TP+FP)*(TP+FN)*(TN+FP)*(TN+FN)) if (TP+FP)*(TP+FN)*(TN+FP)*(TN+FN)>0 else 0\n",
    "    ss_MCC.append(each_MCC)\n",
    "    \n",
    "    \n",
    "#ss_nCM #qui ho le due (che poi saranno 100 nCM)\n",
    "\n",
    "PD_ss_nCM = pd.DataFrame(ss_nCM) \n",
    "\n",
    "\n",
    "SS_coords = PD_ss_nCM.drop([2],axis=1) #coordinata di FN non ci interessa\n",
    "\n",
    "SS_coords.rename({0: 'TN', 1: 'FP', 3: 'TP'}, axis=1, inplace=True)\n",
    "\n",
    "SS_coords['MCC']= ss_MCC\n",
    "                                        \n",
    "SS_coords\n",
    "\n"
   ]
  },
  {
   "cell_type": "code",
   "execution_count": 11,
   "id": "46d70eb7",
   "metadata": {},
   "outputs": [
    {
     "data": {
      "text/plain": [
       "'\\n\\nfor str_train_index, str_test_index in ss.split(x, y): #returns 2 list of all the splits for X and Y (am)\\n    str_train_set = x.loc[str_train_index]  #loc=rows which are having the index (vs iloc che fa columns)\\n    str_test_set = x.loc[str_test_index]\\n    \\n    print(len(str_test_set.value_counts())) #-> 97 perchè 25% di 386\\n    print(len(str_train_set.value_counts())) #-> 289 perchè 75% di 386\\n    \\n#quindi questi sono i miei 10(poi 100) splits del dataset --- qui stratified - ora stessa cosa per random\\n\\n'"
      ]
     },
     "execution_count": 11,
     "metadata": {},
     "output_type": "execute_result"
    }
   ],
   "source": [
    "\"\"\"\n",
    "\n",
    "for str_train_index, str_test_index in ss.split(x, y): #returns 2 list of all the splits for X and Y (am)\n",
    "    str_train_set = x.loc[str_train_index]  #loc=rows which are having the index (vs iloc che fa columns)\n",
    "    str_test_set = x.loc[str_test_index]\n",
    "    \n",
    "    print(len(str_test_set.value_counts())) #-> 97 perchè 25% di 386\n",
    "    print(len(str_train_set.value_counts())) #-> 289 perchè 75% di 386\n",
    "    \n",
    "#quindi questi sono i miei 10(poi 100) splits del dataset --- qui stratified - ora stessa cosa per random\n",
    "\n",
    "\"\"\""
   ]
  },
  {
   "cell_type": "code",
   "execution_count": 26,
   "id": "649e38c1",
   "metadata": {},
   "outputs": [
    {
     "data": {
      "application/vnd.plotly.v1+json": {
       "config": {
        "plotlyServerURL": "https://plot.ly"
       },
       "data": [
        {
         "line": {
          "color": "green",
          "width": 3
         },
         "marker": {
          "color": [
           1,
           1,
           0.7644707871564383,
           1,
           1,
           1,
           1,
           1,
           1,
           1
          ],
          "colorscale": [
           [
            0,
            "#440154"
           ],
           [
            0.1111111111111111,
            "#482878"
           ],
           [
            0.2222222222222222,
            "#3e4989"
           ],
           [
            0.3333333333333333,
            "#31688e"
           ],
           [
            0.4444444444444444,
            "#26828e"
           ],
           [
            0.5555555555555556,
            "#1f9e89"
           ],
           [
            0.6666666666666666,
            "#35b779"
           ],
           [
            0.7777777777777778,
            "#6ece58"
           ],
           [
            0.8888888888888888,
            "#b5de2b"
           ],
           [
            1,
            "#fde725"
           ]
          ],
          "showscale": true,
          "size": 4
         },
         "mode": "markers",
         "type": "scatter3d",
         "x": [
          0.0625,
          0.0625,
          0.0375,
          0.0625,
          0.0625,
          0.0625,
          0.0625,
          0.0625,
          0.0625,
          0.0625
         ],
         "y": [
          0.9375,
          0.9375,
          0.9375,
          0.9375,
          0.9375,
          0.9375,
          0.9375,
          0.9375,
          0.9375,
          0.9375
         ],
         "z": [
          0,
          0,
          0,
          0,
          0,
          0,
          0,
          0,
          0,
          0
         ]
        },
        {
         "color": "lightgrey",
         "i": [
          0,
          0,
          0,
          1
         ],
         "j": [
          1,
          2,
          3,
          2
         ],
         "k": [
          2,
          3,
          1,
          3
         ],
         "name": "y",
         "opacity": 0.2,
         "showscale": true,
         "type": "mesh3d",
         "x": [
          0,
          0,
          0,
          1
         ],
         "y": [
          0,
          0,
          1,
          0
         ],
         "z": [
          0,
          1,
          0,
          0
         ]
        }
       ],
       "layout": {
        "autosize": false,
        "height": 700,
        "template": {
         "data": {
          "bar": [
           {
            "error_x": {
             "color": "#2a3f5f"
            },
            "error_y": {
             "color": "#2a3f5f"
            },
            "marker": {
             "line": {
              "color": "#E5ECF6",
              "width": 0.5
             },
             "pattern": {
              "fillmode": "overlay",
              "size": 10,
              "solidity": 0.2
             }
            },
            "type": "bar"
           }
          ],
          "barpolar": [
           {
            "marker": {
             "line": {
              "color": "#E5ECF6",
              "width": 0.5
             },
             "pattern": {
              "fillmode": "overlay",
              "size": 10,
              "solidity": 0.2
             }
            },
            "type": "barpolar"
           }
          ],
          "carpet": [
           {
            "aaxis": {
             "endlinecolor": "#2a3f5f",
             "gridcolor": "white",
             "linecolor": "white",
             "minorgridcolor": "white",
             "startlinecolor": "#2a3f5f"
            },
            "baxis": {
             "endlinecolor": "#2a3f5f",
             "gridcolor": "white",
             "linecolor": "white",
             "minorgridcolor": "white",
             "startlinecolor": "#2a3f5f"
            },
            "type": "carpet"
           }
          ],
          "choropleth": [
           {
            "colorbar": {
             "outlinewidth": 0,
             "ticks": ""
            },
            "type": "choropleth"
           }
          ],
          "contour": [
           {
            "colorbar": {
             "outlinewidth": 0,
             "ticks": ""
            },
            "colorscale": [
             [
              0,
              "#0d0887"
             ],
             [
              0.1111111111111111,
              "#46039f"
             ],
             [
              0.2222222222222222,
              "#7201a8"
             ],
             [
              0.3333333333333333,
              "#9c179e"
             ],
             [
              0.4444444444444444,
              "#bd3786"
             ],
             [
              0.5555555555555556,
              "#d8576b"
             ],
             [
              0.6666666666666666,
              "#ed7953"
             ],
             [
              0.7777777777777778,
              "#fb9f3a"
             ],
             [
              0.8888888888888888,
              "#fdca26"
             ],
             [
              1,
              "#f0f921"
             ]
            ],
            "type": "contour"
           }
          ],
          "contourcarpet": [
           {
            "colorbar": {
             "outlinewidth": 0,
             "ticks": ""
            },
            "type": "contourcarpet"
           }
          ],
          "heatmap": [
           {
            "colorbar": {
             "outlinewidth": 0,
             "ticks": ""
            },
            "colorscale": [
             [
              0,
              "#0d0887"
             ],
             [
              0.1111111111111111,
              "#46039f"
             ],
             [
              0.2222222222222222,
              "#7201a8"
             ],
             [
              0.3333333333333333,
              "#9c179e"
             ],
             [
              0.4444444444444444,
              "#bd3786"
             ],
             [
              0.5555555555555556,
              "#d8576b"
             ],
             [
              0.6666666666666666,
              "#ed7953"
             ],
             [
              0.7777777777777778,
              "#fb9f3a"
             ],
             [
              0.8888888888888888,
              "#fdca26"
             ],
             [
              1,
              "#f0f921"
             ]
            ],
            "type": "heatmap"
           }
          ],
          "heatmapgl": [
           {
            "colorbar": {
             "outlinewidth": 0,
             "ticks": ""
            },
            "colorscale": [
             [
              0,
              "#0d0887"
             ],
             [
              0.1111111111111111,
              "#46039f"
             ],
             [
              0.2222222222222222,
              "#7201a8"
             ],
             [
              0.3333333333333333,
              "#9c179e"
             ],
             [
              0.4444444444444444,
              "#bd3786"
             ],
             [
              0.5555555555555556,
              "#d8576b"
             ],
             [
              0.6666666666666666,
              "#ed7953"
             ],
             [
              0.7777777777777778,
              "#fb9f3a"
             ],
             [
              0.8888888888888888,
              "#fdca26"
             ],
             [
              1,
              "#f0f921"
             ]
            ],
            "type": "heatmapgl"
           }
          ],
          "histogram": [
           {
            "marker": {
             "pattern": {
              "fillmode": "overlay",
              "size": 10,
              "solidity": 0.2
             }
            },
            "type": "histogram"
           }
          ],
          "histogram2d": [
           {
            "colorbar": {
             "outlinewidth": 0,
             "ticks": ""
            },
            "colorscale": [
             [
              0,
              "#0d0887"
             ],
             [
              0.1111111111111111,
              "#46039f"
             ],
             [
              0.2222222222222222,
              "#7201a8"
             ],
             [
              0.3333333333333333,
              "#9c179e"
             ],
             [
              0.4444444444444444,
              "#bd3786"
             ],
             [
              0.5555555555555556,
              "#d8576b"
             ],
             [
              0.6666666666666666,
              "#ed7953"
             ],
             [
              0.7777777777777778,
              "#fb9f3a"
             ],
             [
              0.8888888888888888,
              "#fdca26"
             ],
             [
              1,
              "#f0f921"
             ]
            ],
            "type": "histogram2d"
           }
          ],
          "histogram2dcontour": [
           {
            "colorbar": {
             "outlinewidth": 0,
             "ticks": ""
            },
            "colorscale": [
             [
              0,
              "#0d0887"
             ],
             [
              0.1111111111111111,
              "#46039f"
             ],
             [
              0.2222222222222222,
              "#7201a8"
             ],
             [
              0.3333333333333333,
              "#9c179e"
             ],
             [
              0.4444444444444444,
              "#bd3786"
             ],
             [
              0.5555555555555556,
              "#d8576b"
             ],
             [
              0.6666666666666666,
              "#ed7953"
             ],
             [
              0.7777777777777778,
              "#fb9f3a"
             ],
             [
              0.8888888888888888,
              "#fdca26"
             ],
             [
              1,
              "#f0f921"
             ]
            ],
            "type": "histogram2dcontour"
           }
          ],
          "mesh3d": [
           {
            "colorbar": {
             "outlinewidth": 0,
             "ticks": ""
            },
            "type": "mesh3d"
           }
          ],
          "parcoords": [
           {
            "line": {
             "colorbar": {
              "outlinewidth": 0,
              "ticks": ""
             }
            },
            "type": "parcoords"
           }
          ],
          "pie": [
           {
            "automargin": true,
            "type": "pie"
           }
          ],
          "scatter": [
           {
            "marker": {
             "colorbar": {
              "outlinewidth": 0,
              "ticks": ""
             }
            },
            "type": "scatter"
           }
          ],
          "scatter3d": [
           {
            "line": {
             "colorbar": {
              "outlinewidth": 0,
              "ticks": ""
             }
            },
            "marker": {
             "colorbar": {
              "outlinewidth": 0,
              "ticks": ""
             }
            },
            "type": "scatter3d"
           }
          ],
          "scattercarpet": [
           {
            "marker": {
             "colorbar": {
              "outlinewidth": 0,
              "ticks": ""
             }
            },
            "type": "scattercarpet"
           }
          ],
          "scattergeo": [
           {
            "marker": {
             "colorbar": {
              "outlinewidth": 0,
              "ticks": ""
             }
            },
            "type": "scattergeo"
           }
          ],
          "scattergl": [
           {
            "marker": {
             "colorbar": {
              "outlinewidth": 0,
              "ticks": ""
             }
            },
            "type": "scattergl"
           }
          ],
          "scattermapbox": [
           {
            "marker": {
             "colorbar": {
              "outlinewidth": 0,
              "ticks": ""
             }
            },
            "type": "scattermapbox"
           }
          ],
          "scatterpolar": [
           {
            "marker": {
             "colorbar": {
              "outlinewidth": 0,
              "ticks": ""
             }
            },
            "type": "scatterpolar"
           }
          ],
          "scatterpolargl": [
           {
            "marker": {
             "colorbar": {
              "outlinewidth": 0,
              "ticks": ""
             }
            },
            "type": "scatterpolargl"
           }
          ],
          "scatterternary": [
           {
            "marker": {
             "colorbar": {
              "outlinewidth": 0,
              "ticks": ""
             }
            },
            "type": "scatterternary"
           }
          ],
          "surface": [
           {
            "colorbar": {
             "outlinewidth": 0,
             "ticks": ""
            },
            "colorscale": [
             [
              0,
              "#0d0887"
             ],
             [
              0.1111111111111111,
              "#46039f"
             ],
             [
              0.2222222222222222,
              "#7201a8"
             ],
             [
              0.3333333333333333,
              "#9c179e"
             ],
             [
              0.4444444444444444,
              "#bd3786"
             ],
             [
              0.5555555555555556,
              "#d8576b"
             ],
             [
              0.6666666666666666,
              "#ed7953"
             ],
             [
              0.7777777777777778,
              "#fb9f3a"
             ],
             [
              0.8888888888888888,
              "#fdca26"
             ],
             [
              1,
              "#f0f921"
             ]
            ],
            "type": "surface"
           }
          ],
          "table": [
           {
            "cells": {
             "fill": {
              "color": "#EBF0F8"
             },
             "line": {
              "color": "white"
             }
            },
            "header": {
             "fill": {
              "color": "#C8D4E3"
             },
             "line": {
              "color": "white"
             }
            },
            "type": "table"
           }
          ]
         },
         "layout": {
          "annotationdefaults": {
           "arrowcolor": "#2a3f5f",
           "arrowhead": 0,
           "arrowwidth": 1
          },
          "autotypenumbers": "strict",
          "coloraxis": {
           "colorbar": {
            "outlinewidth": 0,
            "ticks": ""
           }
          },
          "colorscale": {
           "diverging": [
            [
             0,
             "#8e0152"
            ],
            [
             0.1,
             "#c51b7d"
            ],
            [
             0.2,
             "#de77ae"
            ],
            [
             0.3,
             "#f1b6da"
            ],
            [
             0.4,
             "#fde0ef"
            ],
            [
             0.5,
             "#f7f7f7"
            ],
            [
             0.6,
             "#e6f5d0"
            ],
            [
             0.7,
             "#b8e186"
            ],
            [
             0.8,
             "#7fbc41"
            ],
            [
             0.9,
             "#4d9221"
            ],
            [
             1,
             "#276419"
            ]
           ],
           "sequential": [
            [
             0,
             "#0d0887"
            ],
            [
             0.1111111111111111,
             "#46039f"
            ],
            [
             0.2222222222222222,
             "#7201a8"
            ],
            [
             0.3333333333333333,
             "#9c179e"
            ],
            [
             0.4444444444444444,
             "#bd3786"
            ],
            [
             0.5555555555555556,
             "#d8576b"
            ],
            [
             0.6666666666666666,
             "#ed7953"
            ],
            [
             0.7777777777777778,
             "#fb9f3a"
            ],
            [
             0.8888888888888888,
             "#fdca26"
            ],
            [
             1,
             "#f0f921"
            ]
           ],
           "sequentialminus": [
            [
             0,
             "#0d0887"
            ],
            [
             0.1111111111111111,
             "#46039f"
            ],
            [
             0.2222222222222222,
             "#7201a8"
            ],
            [
             0.3333333333333333,
             "#9c179e"
            ],
            [
             0.4444444444444444,
             "#bd3786"
            ],
            [
             0.5555555555555556,
             "#d8576b"
            ],
            [
             0.6666666666666666,
             "#ed7953"
            ],
            [
             0.7777777777777778,
             "#fb9f3a"
            ],
            [
             0.8888888888888888,
             "#fdca26"
            ],
            [
             1,
             "#f0f921"
            ]
           ]
          },
          "colorway": [
           "#636efa",
           "#EF553B",
           "#00cc96",
           "#ab63fa",
           "#FFA15A",
           "#19d3f3",
           "#FF6692",
           "#B6E880",
           "#FF97FF",
           "#FECB52"
          ],
          "font": {
           "color": "#2a3f5f"
          },
          "geo": {
           "bgcolor": "white",
           "lakecolor": "white",
           "landcolor": "#E5ECF6",
           "showlakes": true,
           "showland": true,
           "subunitcolor": "white"
          },
          "hoverlabel": {
           "align": "left"
          },
          "hovermode": "closest",
          "mapbox": {
           "style": "light"
          },
          "paper_bgcolor": "white",
          "plot_bgcolor": "#E5ECF6",
          "polar": {
           "angularaxis": {
            "gridcolor": "white",
            "linecolor": "white",
            "ticks": ""
           },
           "bgcolor": "#E5ECF6",
           "radialaxis": {
            "gridcolor": "white",
            "linecolor": "white",
            "ticks": ""
           }
          },
          "scene": {
           "xaxis": {
            "backgroundcolor": "#E5ECF6",
            "gridcolor": "white",
            "gridwidth": 2,
            "linecolor": "white",
            "showbackground": true,
            "ticks": "",
            "zerolinecolor": "white"
           },
           "yaxis": {
            "backgroundcolor": "#E5ECF6",
            "gridcolor": "white",
            "gridwidth": 2,
            "linecolor": "white",
            "showbackground": true,
            "ticks": "",
            "zerolinecolor": "white"
           },
           "zaxis": {
            "backgroundcolor": "#E5ECF6",
            "gridcolor": "white",
            "gridwidth": 2,
            "linecolor": "white",
            "showbackground": true,
            "ticks": "",
            "zerolinecolor": "white"
           }
          },
          "shapedefaults": {
           "line": {
            "color": "#2a3f5f"
           }
          },
          "ternary": {
           "aaxis": {
            "gridcolor": "white",
            "linecolor": "white",
            "ticks": ""
           },
           "baxis": {
            "gridcolor": "white",
            "linecolor": "white",
            "ticks": ""
           },
           "bgcolor": "#E5ECF6",
           "caxis": {
            "gridcolor": "white",
            "linecolor": "white",
            "ticks": ""
           }
          },
          "title": {
           "x": 0.05
          },
          "xaxis": {
           "automargin": true,
           "gridcolor": "white",
           "linecolor": "white",
           "ticks": "",
           "title": {
            "standoff": 15
           },
           "zerolinecolor": "white",
           "zerolinewidth": 2
          },
          "yaxis": {
           "automargin": true,
           "gridcolor": "white",
           "linecolor": "white",
           "ticks": "",
           "title": {
            "standoff": 15
           },
           "zerolinecolor": "white",
           "zerolinewidth": 2
          }
         }
        },
        "width": 800
       }
      },
      "text/html": [
       "<div>                            <div id=\"465d60d4-52d4-4d27-88ea-c83a37905347\" class=\"plotly-graph-div\" style=\"height:700px; width:800px;\"></div>            <script type=\"text/javascript\">                require([\"plotly\"], function(Plotly) {                    window.PLOTLYENV=window.PLOTLYENV || {};                                    if (document.getElementById(\"465d60d4-52d4-4d27-88ea-c83a37905347\")) {                    Plotly.newPlot(                        \"465d60d4-52d4-4d27-88ea-c83a37905347\",                        [{\"line\":{\"color\":\"green\",\"width\":3},\"marker\":{\"color\":[1.0,1.0,0.7644707871564383,1.0,1.0,1.0,1.0,1.0,1.0,1.0],\"colorscale\":[[0.0,\"#440154\"],[0.1111111111111111,\"#482878\"],[0.2222222222222222,\"#3e4989\"],[0.3333333333333333,\"#31688e\"],[0.4444444444444444,\"#26828e\"],[0.5555555555555556,\"#1f9e89\"],[0.6666666666666666,\"#35b779\"],[0.7777777777777778,\"#6ece58\"],[0.8888888888888888,\"#b5de2b\"],[1.0,\"#fde725\"]],\"showscale\":true,\"size\":4},\"mode\":\"markers\",\"x\":[0.0625,0.0625,0.0375,0.0625,0.0625,0.0625,0.0625,0.0625,0.0625,0.0625],\"y\":[0.9375,0.9375,0.9375,0.9375,0.9375,0.9375,0.9375,0.9375,0.9375,0.9375],\"z\":[0.0,0.0,0.0,0.0,0.0,0.0,0.0,0.0,0.0,0.0],\"type\":\"scatter3d\"},{\"color\":\"lightgrey\",\"i\":[0,0,0,1],\"j\":[1,2,3,2],\"k\":[2,3,1,3],\"name\":\"y\",\"opacity\":0.2,\"showscale\":true,\"x\":[0,0,0,1],\"y\":[0,0,1,0],\"z\":[0,1,0,0],\"type\":\"mesh3d\"}],                        {\"template\":{\"data\":{\"bar\":[{\"error_x\":{\"color\":\"#2a3f5f\"},\"error_y\":{\"color\":\"#2a3f5f\"},\"marker\":{\"line\":{\"color\":\"#E5ECF6\",\"width\":0.5},\"pattern\":{\"fillmode\":\"overlay\",\"size\":10,\"solidity\":0.2}},\"type\":\"bar\"}],\"barpolar\":[{\"marker\":{\"line\":{\"color\":\"#E5ECF6\",\"width\":0.5},\"pattern\":{\"fillmode\":\"overlay\",\"size\":10,\"solidity\":0.2}},\"type\":\"barpolar\"}],\"carpet\":[{\"aaxis\":{\"endlinecolor\":\"#2a3f5f\",\"gridcolor\":\"white\",\"linecolor\":\"white\",\"minorgridcolor\":\"white\",\"startlinecolor\":\"#2a3f5f\"},\"baxis\":{\"endlinecolor\":\"#2a3f5f\",\"gridcolor\":\"white\",\"linecolor\":\"white\",\"minorgridcolor\":\"white\",\"startlinecolor\":\"#2a3f5f\"},\"type\":\"carpet\"}],\"choropleth\":[{\"colorbar\":{\"outlinewidth\":0,\"ticks\":\"\"},\"type\":\"choropleth\"}],\"contour\":[{\"colorbar\":{\"outlinewidth\":0,\"ticks\":\"\"},\"colorscale\":[[0.0,\"#0d0887\"],[0.1111111111111111,\"#46039f\"],[0.2222222222222222,\"#7201a8\"],[0.3333333333333333,\"#9c179e\"],[0.4444444444444444,\"#bd3786\"],[0.5555555555555556,\"#d8576b\"],[0.6666666666666666,\"#ed7953\"],[0.7777777777777778,\"#fb9f3a\"],[0.8888888888888888,\"#fdca26\"],[1.0,\"#f0f921\"]],\"type\":\"contour\"}],\"contourcarpet\":[{\"colorbar\":{\"outlinewidth\":0,\"ticks\":\"\"},\"type\":\"contourcarpet\"}],\"heatmap\":[{\"colorbar\":{\"outlinewidth\":0,\"ticks\":\"\"},\"colorscale\":[[0.0,\"#0d0887\"],[0.1111111111111111,\"#46039f\"],[0.2222222222222222,\"#7201a8\"],[0.3333333333333333,\"#9c179e\"],[0.4444444444444444,\"#bd3786\"],[0.5555555555555556,\"#d8576b\"],[0.6666666666666666,\"#ed7953\"],[0.7777777777777778,\"#fb9f3a\"],[0.8888888888888888,\"#fdca26\"],[1.0,\"#f0f921\"]],\"type\":\"heatmap\"}],\"heatmapgl\":[{\"colorbar\":{\"outlinewidth\":0,\"ticks\":\"\"},\"colorscale\":[[0.0,\"#0d0887\"],[0.1111111111111111,\"#46039f\"],[0.2222222222222222,\"#7201a8\"],[0.3333333333333333,\"#9c179e\"],[0.4444444444444444,\"#bd3786\"],[0.5555555555555556,\"#d8576b\"],[0.6666666666666666,\"#ed7953\"],[0.7777777777777778,\"#fb9f3a\"],[0.8888888888888888,\"#fdca26\"],[1.0,\"#f0f921\"]],\"type\":\"heatmapgl\"}],\"histogram\":[{\"marker\":{\"pattern\":{\"fillmode\":\"overlay\",\"size\":10,\"solidity\":0.2}},\"type\":\"histogram\"}],\"histogram2d\":[{\"colorbar\":{\"outlinewidth\":0,\"ticks\":\"\"},\"colorscale\":[[0.0,\"#0d0887\"],[0.1111111111111111,\"#46039f\"],[0.2222222222222222,\"#7201a8\"],[0.3333333333333333,\"#9c179e\"],[0.4444444444444444,\"#bd3786\"],[0.5555555555555556,\"#d8576b\"],[0.6666666666666666,\"#ed7953\"],[0.7777777777777778,\"#fb9f3a\"],[0.8888888888888888,\"#fdca26\"],[1.0,\"#f0f921\"]],\"type\":\"histogram2d\"}],\"histogram2dcontour\":[{\"colorbar\":{\"outlinewidth\":0,\"ticks\":\"\"},\"colorscale\":[[0.0,\"#0d0887\"],[0.1111111111111111,\"#46039f\"],[0.2222222222222222,\"#7201a8\"],[0.3333333333333333,\"#9c179e\"],[0.4444444444444444,\"#bd3786\"],[0.5555555555555556,\"#d8576b\"],[0.6666666666666666,\"#ed7953\"],[0.7777777777777778,\"#fb9f3a\"],[0.8888888888888888,\"#fdca26\"],[1.0,\"#f0f921\"]],\"type\":\"histogram2dcontour\"}],\"mesh3d\":[{\"colorbar\":{\"outlinewidth\":0,\"ticks\":\"\"},\"type\":\"mesh3d\"}],\"parcoords\":[{\"line\":{\"colorbar\":{\"outlinewidth\":0,\"ticks\":\"\"}},\"type\":\"parcoords\"}],\"pie\":[{\"automargin\":true,\"type\":\"pie\"}],\"scatter\":[{\"marker\":{\"colorbar\":{\"outlinewidth\":0,\"ticks\":\"\"}},\"type\":\"scatter\"}],\"scatter3d\":[{\"line\":{\"colorbar\":{\"outlinewidth\":0,\"ticks\":\"\"}},\"marker\":{\"colorbar\":{\"outlinewidth\":0,\"ticks\":\"\"}},\"type\":\"scatter3d\"}],\"scattercarpet\":[{\"marker\":{\"colorbar\":{\"outlinewidth\":0,\"ticks\":\"\"}},\"type\":\"scattercarpet\"}],\"scattergeo\":[{\"marker\":{\"colorbar\":{\"outlinewidth\":0,\"ticks\":\"\"}},\"type\":\"scattergeo\"}],\"scattergl\":[{\"marker\":{\"colorbar\":{\"outlinewidth\":0,\"ticks\":\"\"}},\"type\":\"scattergl\"}],\"scattermapbox\":[{\"marker\":{\"colorbar\":{\"outlinewidth\":0,\"ticks\":\"\"}},\"type\":\"scattermapbox\"}],\"scatterpolar\":[{\"marker\":{\"colorbar\":{\"outlinewidth\":0,\"ticks\":\"\"}},\"type\":\"scatterpolar\"}],\"scatterpolargl\":[{\"marker\":{\"colorbar\":{\"outlinewidth\":0,\"ticks\":\"\"}},\"type\":\"scatterpolargl\"}],\"scatterternary\":[{\"marker\":{\"colorbar\":{\"outlinewidth\":0,\"ticks\":\"\"}},\"type\":\"scatterternary\"}],\"surface\":[{\"colorbar\":{\"outlinewidth\":0,\"ticks\":\"\"},\"colorscale\":[[0.0,\"#0d0887\"],[0.1111111111111111,\"#46039f\"],[0.2222222222222222,\"#7201a8\"],[0.3333333333333333,\"#9c179e\"],[0.4444444444444444,\"#bd3786\"],[0.5555555555555556,\"#d8576b\"],[0.6666666666666666,\"#ed7953\"],[0.7777777777777778,\"#fb9f3a\"],[0.8888888888888888,\"#fdca26\"],[1.0,\"#f0f921\"]],\"type\":\"surface\"}],\"table\":[{\"cells\":{\"fill\":{\"color\":\"#EBF0F8\"},\"line\":{\"color\":\"white\"}},\"header\":{\"fill\":{\"color\":\"#C8D4E3\"},\"line\":{\"color\":\"white\"}},\"type\":\"table\"}]},\"layout\":{\"annotationdefaults\":{\"arrowcolor\":\"#2a3f5f\",\"arrowhead\":0,\"arrowwidth\":1},\"autotypenumbers\":\"strict\",\"coloraxis\":{\"colorbar\":{\"outlinewidth\":0,\"ticks\":\"\"}},\"colorscale\":{\"diverging\":[[0,\"#8e0152\"],[0.1,\"#c51b7d\"],[0.2,\"#de77ae\"],[0.3,\"#f1b6da\"],[0.4,\"#fde0ef\"],[0.5,\"#f7f7f7\"],[0.6,\"#e6f5d0\"],[0.7,\"#b8e186\"],[0.8,\"#7fbc41\"],[0.9,\"#4d9221\"],[1,\"#276419\"]],\"sequential\":[[0.0,\"#0d0887\"],[0.1111111111111111,\"#46039f\"],[0.2222222222222222,\"#7201a8\"],[0.3333333333333333,\"#9c179e\"],[0.4444444444444444,\"#bd3786\"],[0.5555555555555556,\"#d8576b\"],[0.6666666666666666,\"#ed7953\"],[0.7777777777777778,\"#fb9f3a\"],[0.8888888888888888,\"#fdca26\"],[1.0,\"#f0f921\"]],\"sequentialminus\":[[0.0,\"#0d0887\"],[0.1111111111111111,\"#46039f\"],[0.2222222222222222,\"#7201a8\"],[0.3333333333333333,\"#9c179e\"],[0.4444444444444444,\"#bd3786\"],[0.5555555555555556,\"#d8576b\"],[0.6666666666666666,\"#ed7953\"],[0.7777777777777778,\"#fb9f3a\"],[0.8888888888888888,\"#fdca26\"],[1.0,\"#f0f921\"]]},\"colorway\":[\"#636efa\",\"#EF553B\",\"#00cc96\",\"#ab63fa\",\"#FFA15A\",\"#19d3f3\",\"#FF6692\",\"#B6E880\",\"#FF97FF\",\"#FECB52\"],\"font\":{\"color\":\"#2a3f5f\"},\"geo\":{\"bgcolor\":\"white\",\"lakecolor\":\"white\",\"landcolor\":\"#E5ECF6\",\"showlakes\":true,\"showland\":true,\"subunitcolor\":\"white\"},\"hoverlabel\":{\"align\":\"left\"},\"hovermode\":\"closest\",\"mapbox\":{\"style\":\"light\"},\"paper_bgcolor\":\"white\",\"plot_bgcolor\":\"#E5ECF6\",\"polar\":{\"angularaxis\":{\"gridcolor\":\"white\",\"linecolor\":\"white\",\"ticks\":\"\"},\"bgcolor\":\"#E5ECF6\",\"radialaxis\":{\"gridcolor\":\"white\",\"linecolor\":\"white\",\"ticks\":\"\"}},\"scene\":{\"xaxis\":{\"backgroundcolor\":\"#E5ECF6\",\"gridcolor\":\"white\",\"gridwidth\":2,\"linecolor\":\"white\",\"showbackground\":true,\"ticks\":\"\",\"zerolinecolor\":\"white\"},\"yaxis\":{\"backgroundcolor\":\"#E5ECF6\",\"gridcolor\":\"white\",\"gridwidth\":2,\"linecolor\":\"white\",\"showbackground\":true,\"ticks\":\"\",\"zerolinecolor\":\"white\"},\"zaxis\":{\"backgroundcolor\":\"#E5ECF6\",\"gridcolor\":\"white\",\"gridwidth\":2,\"linecolor\":\"white\",\"showbackground\":true,\"ticks\":\"\",\"zerolinecolor\":\"white\"}},\"shapedefaults\":{\"line\":{\"color\":\"#2a3f5f\"}},\"ternary\":{\"aaxis\":{\"gridcolor\":\"white\",\"linecolor\":\"white\",\"ticks\":\"\"},\"baxis\":{\"gridcolor\":\"white\",\"linecolor\":\"white\",\"ticks\":\"\"},\"bgcolor\":\"#E5ECF6\",\"caxis\":{\"gridcolor\":\"white\",\"linecolor\":\"white\",\"ticks\":\"\"}},\"title\":{\"x\":0.05},\"xaxis\":{\"automargin\":true,\"gridcolor\":\"white\",\"linecolor\":\"white\",\"ticks\":\"\",\"title\":{\"standoff\":15},\"zerolinecolor\":\"white\",\"zerolinewidth\":2},\"yaxis\":{\"automargin\":true,\"gridcolor\":\"white\",\"linecolor\":\"white\",\"ticks\":\"\",\"title\":{\"standoff\":15},\"zerolinecolor\":\"white\",\"zerolinewidth\":2}}},\"width\":800,\"height\":700,\"autosize\":false},                        {\"responsive\": true}                    ).then(function(){\n",
       "                            \n",
       "var gd = document.getElementById('465d60d4-52d4-4d27-88ea-c83a37905347');\n",
       "var x = new MutationObserver(function (mutations, observer) {{\n",
       "        var display = window.getComputedStyle(gd).display;\n",
       "        if (!display || display === 'none') {{\n",
       "            console.log([gd, 'removed!']);\n",
       "            Plotly.purge(gd);\n",
       "            observer.disconnect();\n",
       "        }}\n",
       "}});\n",
       "\n",
       "// Listen for the removal of the full notebook cells\n",
       "var notebookContainer = gd.closest('#notebook-container');\n",
       "if (notebookContainer) {{\n",
       "    x.observe(notebookContainer, {childList: true});\n",
       "}}\n",
       "\n",
       "// Listen for the clearing of the current output cell\n",
       "var outputEl = gd.closest('.output');\n",
       "if (outputEl) {{\n",
       "    x.observe(outputEl, {childList: true});\n",
       "}}\n",
       "\n",
       "                        })                };                });            </script>        </div>"
      ]
     },
     "metadata": {},
     "output_type": "display_data"
    }
   ],
   "source": [
    "#STRATIFIED\n",
    "fig = go.Figure(data=go.Scatter3d(mode = 'markers',\n",
    "    x= SS_coords['TP'], \n",
    "    y= SS_coords['TN'], \n",
    "    z= SS_coords['FP'],\n",
    "    marker=dict(\n",
    "        size=4, #pallini per quelli assocaiti al threshold quindi in realtà\n",
    "        color=SS_coords['MCC'],\n",
    "        colorscale='Viridis',\n",
    "        showscale=True\n",
    "    ),\n",
    "    line=dict(\n",
    "        color='green',\n",
    "        width=3\n",
    "    ),\n",
    "))\n",
    "\n",
    "fig.update_layout(\n",
    "    width=800,\n",
    "    height=700,\n",
    "    autosize=False\n",
    ")\n",
    "\n",
    "\n",
    "\n",
    "\n",
    "fig.add_trace(go.Figure(data=[\n",
    "    go.Mesh3d(\n",
    "        x=[0, 0, 0, 1], \n",
    "        y=[0, 0, 1, 0],\n",
    "        z=[0, 1, 0, 0],\n",
    "\n",
    "        color ='lightgrey',\n",
    "        \n",
    "        opacity = 0.2, #for transparency\n",
    "        \n",
    "        # i, j and k sono i vertici dei triangoli\n",
    "        # here we represent the 4 triangles of the tetrahedron surface\n",
    "        i=[0, 0, 0, 1],\n",
    "        j=[1, 2, 3, 2],\n",
    "        k=[2, 3, 1, 3],\n",
    "        name='y',\n",
    "        showscale=True\n",
    "    )\n",
    "]).data[0])\n",
    "\n",
    "\n",
    "\n",
    "fig.show()"
   ]
  },
  {
   "cell_type": "markdown",
   "id": "6e05ca8d",
   "metadata": {},
   "source": [
    "## 2.2 Coordinates for the 100 models with RANDOM resampling  "
   ]
  },
  {
   "cell_type": "markdown",
   "id": "7835880b",
   "metadata": {},
   "source": [
    "if random k=1 -> the split is random (does not keep the ratio betwen the sample of class 0 and samples of class 1 among training and validation)"
   ]
  },
  {
   "cell_type": "code",
   "execution_count": 21,
   "id": "c4bcc71c",
   "metadata": {},
   "outputs": [],
   "source": [
    "# M2 - T_i,V_i top2 rispettivamente 75% e 25% -> 100s splits dello stesso dataset MA *random* (=non mantiene proporzione tra 0 e 1 among training and validation)\n",
    "\n",
    "rs = ShuffleSplit(n_splits=10, test_size=.25, random_state=0) #random  -> M2\n"
   ]
  },
  {
   "cell_type": "code",
   "execution_count": 14,
   "id": "889732c3",
   "metadata": {},
   "outputs": [
    {
     "data": {
      "text/plain": [
       "'\\n\\nfor rand_train_index, rand_test_index in rs.split(x, y): #returns 2 list of all the splits for X and Y (am)\\n    rand_train_set = x.loc[rand_train_index]  #loc=rows which are having the index (vs iloc che fa columns)\\n    rand_test_set = x.loc[rand_test_index]\\n    \\n    print(len(rand_test_set.value_counts())) #-> 97 perchè 25% di 386\\n    print(len(rand_train_set.value_counts())) #-> 289 perchè 75% di 386 \\n    \\n#quindi questi sono i miei 10(poi 100) splits del dataset --- qui randomici - now off to modelli\\n\\n'"
      ]
     },
     "execution_count": 14,
     "metadata": {},
     "output_type": "execute_result"
    }
   ],
   "source": [
    "\"\"\"\n",
    "\n",
    "for rand_train_index, rand_test_index in rs.split(x, y): #returns 2 list of all the splits for X and Y (am)\n",
    "    rand_train_set = x.loc[rand_train_index]  #loc=rows which are having the index (vs iloc che fa columns)\n",
    "    rand_test_set = x.loc[rand_test_index]\n",
    "    \n",
    "    print(len(rand_test_set.value_counts())) #-> 97 perchè 25% di 386\n",
    "    print(len(rand_train_set.value_counts())) #-> 289 perchè 75% di 386 \n",
    "    \n",
    "#quindi questi sono i miei 10(poi 100) splits del dataset --- qui randomici - now off to modelli\n",
    "\n",
    "\"\"\""
   ]
  },
  {
   "cell_type": "code",
   "execution_count": 22,
   "id": "f11ec4d2",
   "metadata": {},
   "outputs": [
    {
     "data": {
      "text/html": [
       "<div>\n",
       "<style scoped>\n",
       "    .dataframe tbody tr th:only-of-type {\n",
       "        vertical-align: middle;\n",
       "    }\n",
       "\n",
       "    .dataframe tbody tr th {\n",
       "        vertical-align: top;\n",
       "    }\n",
       "\n",
       "    .dataframe thead th {\n",
       "        text-align: right;\n",
       "    }\n",
       "</style>\n",
       "<table border=\"1\" class=\"dataframe\">\n",
       "  <thead>\n",
       "    <tr style=\"text-align: right;\">\n",
       "      <th></th>\n",
       "      <th>TN</th>\n",
       "      <th>FP</th>\n",
       "      <th>TP</th>\n",
       "      <th>MCC</th>\n",
       "    </tr>\n",
       "  </thead>\n",
       "  <tbody>\n",
       "    <tr>\n",
       "      <th>0</th>\n",
       "      <td>0.9000</td>\n",
       "      <td>0.0</td>\n",
       "      <td>0.1000</td>\n",
       "      <td>1.0</td>\n",
       "    </tr>\n",
       "    <tr>\n",
       "      <th>1</th>\n",
       "      <td>0.9000</td>\n",
       "      <td>0.0</td>\n",
       "      <td>0.1000</td>\n",
       "      <td>1.0</td>\n",
       "    </tr>\n",
       "    <tr>\n",
       "      <th>2</th>\n",
       "      <td>0.9750</td>\n",
       "      <td>0.0</td>\n",
       "      <td>0.0250</td>\n",
       "      <td>1.0</td>\n",
       "    </tr>\n",
       "    <tr>\n",
       "      <th>3</th>\n",
       "      <td>0.9375</td>\n",
       "      <td>0.0</td>\n",
       "      <td>0.0625</td>\n",
       "      <td>1.0</td>\n",
       "    </tr>\n",
       "    <tr>\n",
       "      <th>4</th>\n",
       "      <td>0.9375</td>\n",
       "      <td>0.0</td>\n",
       "      <td>0.0625</td>\n",
       "      <td>1.0</td>\n",
       "    </tr>\n",
       "    <tr>\n",
       "      <th>5</th>\n",
       "      <td>0.9500</td>\n",
       "      <td>0.0</td>\n",
       "      <td>0.0500</td>\n",
       "      <td>1.0</td>\n",
       "    </tr>\n",
       "    <tr>\n",
       "      <th>6</th>\n",
       "      <td>0.9500</td>\n",
       "      <td>0.0</td>\n",
       "      <td>0.0500</td>\n",
       "      <td>1.0</td>\n",
       "    </tr>\n",
       "    <tr>\n",
       "      <th>7</th>\n",
       "      <td>0.9750</td>\n",
       "      <td>0.0</td>\n",
       "      <td>0.0250</td>\n",
       "      <td>1.0</td>\n",
       "    </tr>\n",
       "    <tr>\n",
       "      <th>8</th>\n",
       "      <td>0.9125</td>\n",
       "      <td>0.0</td>\n",
       "      <td>0.0875</td>\n",
       "      <td>1.0</td>\n",
       "    </tr>\n",
       "    <tr>\n",
       "      <th>9</th>\n",
       "      <td>0.9375</td>\n",
       "      <td>0.0</td>\n",
       "      <td>0.0625</td>\n",
       "      <td>1.0</td>\n",
       "    </tr>\n",
       "  </tbody>\n",
       "</table>\n",
       "</div>"
      ],
      "text/plain": [
       "       TN   FP      TP  MCC\n",
       "0  0.9000  0.0  0.1000  1.0\n",
       "1  0.9000  0.0  0.1000  1.0\n",
       "2  0.9750  0.0  0.0250  1.0\n",
       "3  0.9375  0.0  0.0625  1.0\n",
       "4  0.9375  0.0  0.0625  1.0\n",
       "5  0.9500  0.0  0.0500  1.0\n",
       "6  0.9500  0.0  0.0500  1.0\n",
       "7  0.9750  0.0  0.0250  1.0\n",
       "8  0.9125  0.0  0.0875  1.0\n",
       "9  0.9375  0.0  0.0625  1.0"
      ]
     },
     "execution_count": 22,
     "metadata": {},
     "output_type": "execute_result"
    }
   ],
   "source": [
    "rs_nCM =[]\n",
    "\n",
    "rs_MCC =[]\n",
    "\n",
    "\n",
    "\n",
    "for rand_train_index, rand_test_index in rs.split(x, y): \n",
    "    rand_train_set_x = x.loc[rand_train_index]  \n",
    "    rand_test_set_x = x.loc[rand_test_index]\n",
    "    \n",
    "    rand_train_set_y = y.loc[rand_train_index]\n",
    "    rand_test_set_y = y.loc[rand_test_index]\n",
    "    \n",
    "\n",
    "    vect = svm.SVC(kernel='linear')\n",
    "\n",
    "    vect.fit(rand_train_set_x, rand_train_set_y)\n",
    "\n",
    "    y_pred = np.array(vect.predict(rand_test_set_x))\n",
    "    \n",
    "    (TN, FP, FN, TP) = generate_matrix_entries(rand_test_set_y.values, y_pred)\n",
    "    N = sum([TN, FP, FN, TP])\n",
    "    \n",
    "    each_CM = np.array([TN, FP,FN, TP])\n",
    "\n",
    "    each_nCM = each_CM/N\n",
    "    rs_nCM.append(each_nCM)\n",
    "    \n",
    "    \n",
    "    each_MCC = (TP*TN -FP*FN)/math.sqrt((TP+FP)*(TP+FN)*(TN+FP)*(TN+FN)) if (TP+FP)*(TP+FN)*(TN+FP)*(TN+FN)>0 else 0\n",
    "    rs_MCC.append(each_MCC)\n",
    "    \n",
    "    \n",
    "    \n",
    "rs_nCM #qui ho le due (che poi saranno 100 nCM)\n",
    "\n",
    "PD_rs_nCM = pd.DataFrame(rs_nCM) \n",
    "\n",
    "\n",
    "RS_coords = PD_rs_nCM.drop([2],axis=1) #coordinata di FN non ci interessa\n",
    "\n",
    "RS_coords.rename({0: 'TN', 1: 'FP', 3: 'TP'}, axis=1, inplace=True)\n",
    "\n",
    "RS_coords['MCC']= rs_MCC\n",
    "                                        \n",
    "RS_coords"
   ]
  },
  {
   "cell_type": "markdown",
   "id": "d3319869",
   "metadata": {},
   "source": [
    "# 3. Plot dei risultati nel tetraedro"
   ]
  },
  {
   "cell_type": "markdown",
   "id": "cc02164b",
   "metadata": {},
   "source": [
    "Una volta che ottengo le coordinate e gli MCC per ciascun punto qui è già pronto il codice per plottare il risultato, il problema è riuscire a ottenere le 200 confusion matices e(e quindi 200 punti nel tetraedro)"
   ]
  },
  {
   "cell_type": "code",
   "execution_count": null,
   "id": "23bb3389",
   "metadata": {},
   "outputs": [],
   "source": [
    "#QUESTO COSì HA GIà PRONTO IL CODICE PER PLOTTARE IL RISULTATO "
   ]
  },
  {
   "cell_type": "code",
   "execution_count": 23,
   "id": "0cc6a592",
   "metadata": {},
   "outputs": [
    {
     "data": {
      "application/vnd.plotly.v1+json": {
       "config": {
        "plotlyServerURL": "https://plot.ly"
       },
       "data": [
        {
         "line": {
          "color": "green",
          "width": 3
         },
         "marker": {
          "color": [
           1,
           1,
           1,
           1,
           1,
           1,
           1,
           1,
           1,
           1
          ],
          "colorscale": [
           [
            0,
            "#440154"
           ],
           [
            0.1111111111111111,
            "#482878"
           ],
           [
            0.2222222222222222,
            "#3e4989"
           ],
           [
            0.3333333333333333,
            "#31688e"
           ],
           [
            0.4444444444444444,
            "#26828e"
           ],
           [
            0.5555555555555556,
            "#1f9e89"
           ],
           [
            0.6666666666666666,
            "#35b779"
           ],
           [
            0.7777777777777778,
            "#6ece58"
           ],
           [
            0.8888888888888888,
            "#b5de2b"
           ],
           [
            1,
            "#fde725"
           ]
          ],
          "size": 4
         },
         "mode": "markers",
         "type": "scatter3d",
         "x": [
          0.1,
          0.1,
          0.025,
          0.0625,
          0.0625,
          0.05,
          0.05,
          0.025,
          0.0875,
          0.0625
         ],
         "y": [
          0.9,
          0.9,
          0.975,
          0.9375,
          0.9375,
          0.95,
          0.95,
          0.975,
          0.9125,
          0.9375
         ],
         "z": [
          0,
          0,
          0,
          0,
          0,
          0,
          0,
          0,
          0,
          0
         ]
        },
        {
         "color": "lightgrey",
         "i": [
          0,
          0,
          0,
          1
         ],
         "j": [
          1,
          2,
          3,
          2
         ],
         "k": [
          2,
          3,
          1,
          3
         ],
         "name": "y",
         "opacity": 0.2,
         "showscale": true,
         "type": "mesh3d",
         "x": [
          0,
          0,
          0,
          1
         ],
         "y": [
          0,
          0,
          1,
          0
         ],
         "z": [
          0,
          1,
          0,
          0
         ]
        }
       ],
       "layout": {
        "autosize": true,
        "height": 700,
        "template": {
         "data": {
          "bar": [
           {
            "error_x": {
             "color": "#2a3f5f"
            },
            "error_y": {
             "color": "#2a3f5f"
            },
            "marker": {
             "line": {
              "color": "#E5ECF6",
              "width": 0.5
             },
             "pattern": {
              "fillmode": "overlay",
              "size": 10,
              "solidity": 0.2
             }
            },
            "type": "bar"
           }
          ],
          "barpolar": [
           {
            "marker": {
             "line": {
              "color": "#E5ECF6",
              "width": 0.5
             },
             "pattern": {
              "fillmode": "overlay",
              "size": 10,
              "solidity": 0.2
             }
            },
            "type": "barpolar"
           }
          ],
          "carpet": [
           {
            "aaxis": {
             "endlinecolor": "#2a3f5f",
             "gridcolor": "white",
             "linecolor": "white",
             "minorgridcolor": "white",
             "startlinecolor": "#2a3f5f"
            },
            "baxis": {
             "endlinecolor": "#2a3f5f",
             "gridcolor": "white",
             "linecolor": "white",
             "minorgridcolor": "white",
             "startlinecolor": "#2a3f5f"
            },
            "type": "carpet"
           }
          ],
          "choropleth": [
           {
            "colorbar": {
             "outlinewidth": 0,
             "ticks": ""
            },
            "type": "choropleth"
           }
          ],
          "contour": [
           {
            "colorbar": {
             "outlinewidth": 0,
             "ticks": ""
            },
            "colorscale": [
             [
              0,
              "#0d0887"
             ],
             [
              0.1111111111111111,
              "#46039f"
             ],
             [
              0.2222222222222222,
              "#7201a8"
             ],
             [
              0.3333333333333333,
              "#9c179e"
             ],
             [
              0.4444444444444444,
              "#bd3786"
             ],
             [
              0.5555555555555556,
              "#d8576b"
             ],
             [
              0.6666666666666666,
              "#ed7953"
             ],
             [
              0.7777777777777778,
              "#fb9f3a"
             ],
             [
              0.8888888888888888,
              "#fdca26"
             ],
             [
              1,
              "#f0f921"
             ]
            ],
            "type": "contour"
           }
          ],
          "contourcarpet": [
           {
            "colorbar": {
             "outlinewidth": 0,
             "ticks": ""
            },
            "type": "contourcarpet"
           }
          ],
          "heatmap": [
           {
            "colorbar": {
             "outlinewidth": 0,
             "ticks": ""
            },
            "colorscale": [
             [
              0,
              "#0d0887"
             ],
             [
              0.1111111111111111,
              "#46039f"
             ],
             [
              0.2222222222222222,
              "#7201a8"
             ],
             [
              0.3333333333333333,
              "#9c179e"
             ],
             [
              0.4444444444444444,
              "#bd3786"
             ],
             [
              0.5555555555555556,
              "#d8576b"
             ],
             [
              0.6666666666666666,
              "#ed7953"
             ],
             [
              0.7777777777777778,
              "#fb9f3a"
             ],
             [
              0.8888888888888888,
              "#fdca26"
             ],
             [
              1,
              "#f0f921"
             ]
            ],
            "type": "heatmap"
           }
          ],
          "heatmapgl": [
           {
            "colorbar": {
             "outlinewidth": 0,
             "ticks": ""
            },
            "colorscale": [
             [
              0,
              "#0d0887"
             ],
             [
              0.1111111111111111,
              "#46039f"
             ],
             [
              0.2222222222222222,
              "#7201a8"
             ],
             [
              0.3333333333333333,
              "#9c179e"
             ],
             [
              0.4444444444444444,
              "#bd3786"
             ],
             [
              0.5555555555555556,
              "#d8576b"
             ],
             [
              0.6666666666666666,
              "#ed7953"
             ],
             [
              0.7777777777777778,
              "#fb9f3a"
             ],
             [
              0.8888888888888888,
              "#fdca26"
             ],
             [
              1,
              "#f0f921"
             ]
            ],
            "type": "heatmapgl"
           }
          ],
          "histogram": [
           {
            "marker": {
             "pattern": {
              "fillmode": "overlay",
              "size": 10,
              "solidity": 0.2
             }
            },
            "type": "histogram"
           }
          ],
          "histogram2d": [
           {
            "colorbar": {
             "outlinewidth": 0,
             "ticks": ""
            },
            "colorscale": [
             [
              0,
              "#0d0887"
             ],
             [
              0.1111111111111111,
              "#46039f"
             ],
             [
              0.2222222222222222,
              "#7201a8"
             ],
             [
              0.3333333333333333,
              "#9c179e"
             ],
             [
              0.4444444444444444,
              "#bd3786"
             ],
             [
              0.5555555555555556,
              "#d8576b"
             ],
             [
              0.6666666666666666,
              "#ed7953"
             ],
             [
              0.7777777777777778,
              "#fb9f3a"
             ],
             [
              0.8888888888888888,
              "#fdca26"
             ],
             [
              1,
              "#f0f921"
             ]
            ],
            "type": "histogram2d"
           }
          ],
          "histogram2dcontour": [
           {
            "colorbar": {
             "outlinewidth": 0,
             "ticks": ""
            },
            "colorscale": [
             [
              0,
              "#0d0887"
             ],
             [
              0.1111111111111111,
              "#46039f"
             ],
             [
              0.2222222222222222,
              "#7201a8"
             ],
             [
              0.3333333333333333,
              "#9c179e"
             ],
             [
              0.4444444444444444,
              "#bd3786"
             ],
             [
              0.5555555555555556,
              "#d8576b"
             ],
             [
              0.6666666666666666,
              "#ed7953"
             ],
             [
              0.7777777777777778,
              "#fb9f3a"
             ],
             [
              0.8888888888888888,
              "#fdca26"
             ],
             [
              1,
              "#f0f921"
             ]
            ],
            "type": "histogram2dcontour"
           }
          ],
          "mesh3d": [
           {
            "colorbar": {
             "outlinewidth": 0,
             "ticks": ""
            },
            "type": "mesh3d"
           }
          ],
          "parcoords": [
           {
            "line": {
             "colorbar": {
              "outlinewidth": 0,
              "ticks": ""
             }
            },
            "type": "parcoords"
           }
          ],
          "pie": [
           {
            "automargin": true,
            "type": "pie"
           }
          ],
          "scatter": [
           {
            "marker": {
             "colorbar": {
              "outlinewidth": 0,
              "ticks": ""
             }
            },
            "type": "scatter"
           }
          ],
          "scatter3d": [
           {
            "line": {
             "colorbar": {
              "outlinewidth": 0,
              "ticks": ""
             }
            },
            "marker": {
             "colorbar": {
              "outlinewidth": 0,
              "ticks": ""
             }
            },
            "type": "scatter3d"
           }
          ],
          "scattercarpet": [
           {
            "marker": {
             "colorbar": {
              "outlinewidth": 0,
              "ticks": ""
             }
            },
            "type": "scattercarpet"
           }
          ],
          "scattergeo": [
           {
            "marker": {
             "colorbar": {
              "outlinewidth": 0,
              "ticks": ""
             }
            },
            "type": "scattergeo"
           }
          ],
          "scattergl": [
           {
            "marker": {
             "colorbar": {
              "outlinewidth": 0,
              "ticks": ""
             }
            },
            "type": "scattergl"
           }
          ],
          "scattermapbox": [
           {
            "marker": {
             "colorbar": {
              "outlinewidth": 0,
              "ticks": ""
             }
            },
            "type": "scattermapbox"
           }
          ],
          "scatterpolar": [
           {
            "marker": {
             "colorbar": {
              "outlinewidth": 0,
              "ticks": ""
             }
            },
            "type": "scatterpolar"
           }
          ],
          "scatterpolargl": [
           {
            "marker": {
             "colorbar": {
              "outlinewidth": 0,
              "ticks": ""
             }
            },
            "type": "scatterpolargl"
           }
          ],
          "scatterternary": [
           {
            "marker": {
             "colorbar": {
              "outlinewidth": 0,
              "ticks": ""
             }
            },
            "type": "scatterternary"
           }
          ],
          "surface": [
           {
            "colorbar": {
             "outlinewidth": 0,
             "ticks": ""
            },
            "colorscale": [
             [
              0,
              "#0d0887"
             ],
             [
              0.1111111111111111,
              "#46039f"
             ],
             [
              0.2222222222222222,
              "#7201a8"
             ],
             [
              0.3333333333333333,
              "#9c179e"
             ],
             [
              0.4444444444444444,
              "#bd3786"
             ],
             [
              0.5555555555555556,
              "#d8576b"
             ],
             [
              0.6666666666666666,
              "#ed7953"
             ],
             [
              0.7777777777777778,
              "#fb9f3a"
             ],
             [
              0.8888888888888888,
              "#fdca26"
             ],
             [
              1,
              "#f0f921"
             ]
            ],
            "type": "surface"
           }
          ],
          "table": [
           {
            "cells": {
             "fill": {
              "color": "#EBF0F8"
             },
             "line": {
              "color": "white"
             }
            },
            "header": {
             "fill": {
              "color": "#C8D4E3"
             },
             "line": {
              "color": "white"
             }
            },
            "type": "table"
           }
          ]
         },
         "layout": {
          "annotationdefaults": {
           "arrowcolor": "#2a3f5f",
           "arrowhead": 0,
           "arrowwidth": 1
          },
          "autotypenumbers": "strict",
          "coloraxis": {
           "colorbar": {
            "outlinewidth": 0,
            "ticks": ""
           }
          },
          "colorscale": {
           "diverging": [
            [
             0,
             "#8e0152"
            ],
            [
             0.1,
             "#c51b7d"
            ],
            [
             0.2,
             "#de77ae"
            ],
            [
             0.3,
             "#f1b6da"
            ],
            [
             0.4,
             "#fde0ef"
            ],
            [
             0.5,
             "#f7f7f7"
            ],
            [
             0.6,
             "#e6f5d0"
            ],
            [
             0.7,
             "#b8e186"
            ],
            [
             0.8,
             "#7fbc41"
            ],
            [
             0.9,
             "#4d9221"
            ],
            [
             1,
             "#276419"
            ]
           ],
           "sequential": [
            [
             0,
             "#0d0887"
            ],
            [
             0.1111111111111111,
             "#46039f"
            ],
            [
             0.2222222222222222,
             "#7201a8"
            ],
            [
             0.3333333333333333,
             "#9c179e"
            ],
            [
             0.4444444444444444,
             "#bd3786"
            ],
            [
             0.5555555555555556,
             "#d8576b"
            ],
            [
             0.6666666666666666,
             "#ed7953"
            ],
            [
             0.7777777777777778,
             "#fb9f3a"
            ],
            [
             0.8888888888888888,
             "#fdca26"
            ],
            [
             1,
             "#f0f921"
            ]
           ],
           "sequentialminus": [
            [
             0,
             "#0d0887"
            ],
            [
             0.1111111111111111,
             "#46039f"
            ],
            [
             0.2222222222222222,
             "#7201a8"
            ],
            [
             0.3333333333333333,
             "#9c179e"
            ],
            [
             0.4444444444444444,
             "#bd3786"
            ],
            [
             0.5555555555555556,
             "#d8576b"
            ],
            [
             0.6666666666666666,
             "#ed7953"
            ],
            [
             0.7777777777777778,
             "#fb9f3a"
            ],
            [
             0.8888888888888888,
             "#fdca26"
            ],
            [
             1,
             "#f0f921"
            ]
           ]
          },
          "colorway": [
           "#636efa",
           "#EF553B",
           "#00cc96",
           "#ab63fa",
           "#FFA15A",
           "#19d3f3",
           "#FF6692",
           "#B6E880",
           "#FF97FF",
           "#FECB52"
          ],
          "font": {
           "color": "#2a3f5f"
          },
          "geo": {
           "bgcolor": "white",
           "lakecolor": "white",
           "landcolor": "#E5ECF6",
           "showlakes": true,
           "showland": true,
           "subunitcolor": "white"
          },
          "hoverlabel": {
           "align": "left"
          },
          "hovermode": "closest",
          "mapbox": {
           "style": "light"
          },
          "paper_bgcolor": "white",
          "plot_bgcolor": "#E5ECF6",
          "polar": {
           "angularaxis": {
            "gridcolor": "white",
            "linecolor": "white",
            "ticks": ""
           },
           "bgcolor": "#E5ECF6",
           "radialaxis": {
            "gridcolor": "white",
            "linecolor": "white",
            "ticks": ""
           }
          },
          "scene": {
           "xaxis": {
            "backgroundcolor": "#E5ECF6",
            "gridcolor": "white",
            "gridwidth": 2,
            "linecolor": "white",
            "showbackground": true,
            "ticks": "",
            "zerolinecolor": "white"
           },
           "yaxis": {
            "backgroundcolor": "#E5ECF6",
            "gridcolor": "white",
            "gridwidth": 2,
            "linecolor": "white",
            "showbackground": true,
            "ticks": "",
            "zerolinecolor": "white"
           },
           "zaxis": {
            "backgroundcolor": "#E5ECF6",
            "gridcolor": "white",
            "gridwidth": 2,
            "linecolor": "white",
            "showbackground": true,
            "ticks": "",
            "zerolinecolor": "white"
           }
          },
          "shapedefaults": {
           "line": {
            "color": "#2a3f5f"
           }
          },
          "ternary": {
           "aaxis": {
            "gridcolor": "white",
            "linecolor": "white",
            "ticks": ""
           },
           "baxis": {
            "gridcolor": "white",
            "linecolor": "white",
            "ticks": ""
           },
           "bgcolor": "#E5ECF6",
           "caxis": {
            "gridcolor": "white",
            "linecolor": "white",
            "ticks": ""
           }
          },
          "title": {
           "x": 0.05
          },
          "xaxis": {
           "automargin": true,
           "gridcolor": "white",
           "linecolor": "white",
           "ticks": "",
           "title": {
            "standoff": 15
           },
           "zerolinecolor": "white",
           "zerolinewidth": 2
          },
          "yaxis": {
           "automargin": true,
           "gridcolor": "white",
           "linecolor": "white",
           "ticks": "",
           "title": {
            "standoff": 15
           },
           "zerolinecolor": "white",
           "zerolinewidth": 2
          }
         }
        },
        "width": 800
       }
      },
      "text/html": [
       "<div>                            <div id=\"c6922b9b-243f-4824-8789-d6ce44a8d220\" class=\"plotly-graph-div\" style=\"height:700px; width:800px;\"></div>            <script type=\"text/javascript\">                require([\"plotly\"], function(Plotly) {                    window.PLOTLYENV=window.PLOTLYENV || {};                                    if (document.getElementById(\"c6922b9b-243f-4824-8789-d6ce44a8d220\")) {                    Plotly.newPlot(                        \"c6922b9b-243f-4824-8789-d6ce44a8d220\",                        [{\"line\":{\"color\":\"green\",\"width\":3},\"marker\":{\"color\":[1.0,1.0,1.0,1.0,1.0,1.0,1.0,1.0,1.0,1.0],\"colorscale\":[[0.0,\"#440154\"],[0.1111111111111111,\"#482878\"],[0.2222222222222222,\"#3e4989\"],[0.3333333333333333,\"#31688e\"],[0.4444444444444444,\"#26828e\"],[0.5555555555555556,\"#1f9e89\"],[0.6666666666666666,\"#35b779\"],[0.7777777777777778,\"#6ece58\"],[0.8888888888888888,\"#b5de2b\"],[1.0,\"#fde725\"]],\"size\":4},\"mode\":\"markers\",\"x\":[0.1,0.1,0.025,0.0625,0.0625,0.05,0.05,0.025,0.0875,0.0625],\"y\":[0.9,0.9,0.975,0.9375,0.9375,0.95,0.95,0.975,0.9125,0.9375],\"z\":[0.0,0.0,0.0,0.0,0.0,0.0,0.0,0.0,0.0,0.0],\"type\":\"scatter3d\"},{\"color\":\"lightgrey\",\"i\":[0,0,0,1],\"j\":[1,2,3,2],\"k\":[2,3,1,3],\"name\":\"y\",\"opacity\":0.2,\"showscale\":true,\"x\":[0,0,0,1],\"y\":[0,0,1,0],\"z\":[0,1,0,0],\"type\":\"mesh3d\"}],                        {\"template\":{\"data\":{\"bar\":[{\"error_x\":{\"color\":\"#2a3f5f\"},\"error_y\":{\"color\":\"#2a3f5f\"},\"marker\":{\"line\":{\"color\":\"#E5ECF6\",\"width\":0.5},\"pattern\":{\"fillmode\":\"overlay\",\"size\":10,\"solidity\":0.2}},\"type\":\"bar\"}],\"barpolar\":[{\"marker\":{\"line\":{\"color\":\"#E5ECF6\",\"width\":0.5},\"pattern\":{\"fillmode\":\"overlay\",\"size\":10,\"solidity\":0.2}},\"type\":\"barpolar\"}],\"carpet\":[{\"aaxis\":{\"endlinecolor\":\"#2a3f5f\",\"gridcolor\":\"white\",\"linecolor\":\"white\",\"minorgridcolor\":\"white\",\"startlinecolor\":\"#2a3f5f\"},\"baxis\":{\"endlinecolor\":\"#2a3f5f\",\"gridcolor\":\"white\",\"linecolor\":\"white\",\"minorgridcolor\":\"white\",\"startlinecolor\":\"#2a3f5f\"},\"type\":\"carpet\"}],\"choropleth\":[{\"colorbar\":{\"outlinewidth\":0,\"ticks\":\"\"},\"type\":\"choropleth\"}],\"contour\":[{\"colorbar\":{\"outlinewidth\":0,\"ticks\":\"\"},\"colorscale\":[[0.0,\"#0d0887\"],[0.1111111111111111,\"#46039f\"],[0.2222222222222222,\"#7201a8\"],[0.3333333333333333,\"#9c179e\"],[0.4444444444444444,\"#bd3786\"],[0.5555555555555556,\"#d8576b\"],[0.6666666666666666,\"#ed7953\"],[0.7777777777777778,\"#fb9f3a\"],[0.8888888888888888,\"#fdca26\"],[1.0,\"#f0f921\"]],\"type\":\"contour\"}],\"contourcarpet\":[{\"colorbar\":{\"outlinewidth\":0,\"ticks\":\"\"},\"type\":\"contourcarpet\"}],\"heatmap\":[{\"colorbar\":{\"outlinewidth\":0,\"ticks\":\"\"},\"colorscale\":[[0.0,\"#0d0887\"],[0.1111111111111111,\"#46039f\"],[0.2222222222222222,\"#7201a8\"],[0.3333333333333333,\"#9c179e\"],[0.4444444444444444,\"#bd3786\"],[0.5555555555555556,\"#d8576b\"],[0.6666666666666666,\"#ed7953\"],[0.7777777777777778,\"#fb9f3a\"],[0.8888888888888888,\"#fdca26\"],[1.0,\"#f0f921\"]],\"type\":\"heatmap\"}],\"heatmapgl\":[{\"colorbar\":{\"outlinewidth\":0,\"ticks\":\"\"},\"colorscale\":[[0.0,\"#0d0887\"],[0.1111111111111111,\"#46039f\"],[0.2222222222222222,\"#7201a8\"],[0.3333333333333333,\"#9c179e\"],[0.4444444444444444,\"#bd3786\"],[0.5555555555555556,\"#d8576b\"],[0.6666666666666666,\"#ed7953\"],[0.7777777777777778,\"#fb9f3a\"],[0.8888888888888888,\"#fdca26\"],[1.0,\"#f0f921\"]],\"type\":\"heatmapgl\"}],\"histogram\":[{\"marker\":{\"pattern\":{\"fillmode\":\"overlay\",\"size\":10,\"solidity\":0.2}},\"type\":\"histogram\"}],\"histogram2d\":[{\"colorbar\":{\"outlinewidth\":0,\"ticks\":\"\"},\"colorscale\":[[0.0,\"#0d0887\"],[0.1111111111111111,\"#46039f\"],[0.2222222222222222,\"#7201a8\"],[0.3333333333333333,\"#9c179e\"],[0.4444444444444444,\"#bd3786\"],[0.5555555555555556,\"#d8576b\"],[0.6666666666666666,\"#ed7953\"],[0.7777777777777778,\"#fb9f3a\"],[0.8888888888888888,\"#fdca26\"],[1.0,\"#f0f921\"]],\"type\":\"histogram2d\"}],\"histogram2dcontour\":[{\"colorbar\":{\"outlinewidth\":0,\"ticks\":\"\"},\"colorscale\":[[0.0,\"#0d0887\"],[0.1111111111111111,\"#46039f\"],[0.2222222222222222,\"#7201a8\"],[0.3333333333333333,\"#9c179e\"],[0.4444444444444444,\"#bd3786\"],[0.5555555555555556,\"#d8576b\"],[0.6666666666666666,\"#ed7953\"],[0.7777777777777778,\"#fb9f3a\"],[0.8888888888888888,\"#fdca26\"],[1.0,\"#f0f921\"]],\"type\":\"histogram2dcontour\"}],\"mesh3d\":[{\"colorbar\":{\"outlinewidth\":0,\"ticks\":\"\"},\"type\":\"mesh3d\"}],\"parcoords\":[{\"line\":{\"colorbar\":{\"outlinewidth\":0,\"ticks\":\"\"}},\"type\":\"parcoords\"}],\"pie\":[{\"automargin\":true,\"type\":\"pie\"}],\"scatter\":[{\"marker\":{\"colorbar\":{\"outlinewidth\":0,\"ticks\":\"\"}},\"type\":\"scatter\"}],\"scatter3d\":[{\"line\":{\"colorbar\":{\"outlinewidth\":0,\"ticks\":\"\"}},\"marker\":{\"colorbar\":{\"outlinewidth\":0,\"ticks\":\"\"}},\"type\":\"scatter3d\"}],\"scattercarpet\":[{\"marker\":{\"colorbar\":{\"outlinewidth\":0,\"ticks\":\"\"}},\"type\":\"scattercarpet\"}],\"scattergeo\":[{\"marker\":{\"colorbar\":{\"outlinewidth\":0,\"ticks\":\"\"}},\"type\":\"scattergeo\"}],\"scattergl\":[{\"marker\":{\"colorbar\":{\"outlinewidth\":0,\"ticks\":\"\"}},\"type\":\"scattergl\"}],\"scattermapbox\":[{\"marker\":{\"colorbar\":{\"outlinewidth\":0,\"ticks\":\"\"}},\"type\":\"scattermapbox\"}],\"scatterpolar\":[{\"marker\":{\"colorbar\":{\"outlinewidth\":0,\"ticks\":\"\"}},\"type\":\"scatterpolar\"}],\"scatterpolargl\":[{\"marker\":{\"colorbar\":{\"outlinewidth\":0,\"ticks\":\"\"}},\"type\":\"scatterpolargl\"}],\"scatterternary\":[{\"marker\":{\"colorbar\":{\"outlinewidth\":0,\"ticks\":\"\"}},\"type\":\"scatterternary\"}],\"surface\":[{\"colorbar\":{\"outlinewidth\":0,\"ticks\":\"\"},\"colorscale\":[[0.0,\"#0d0887\"],[0.1111111111111111,\"#46039f\"],[0.2222222222222222,\"#7201a8\"],[0.3333333333333333,\"#9c179e\"],[0.4444444444444444,\"#bd3786\"],[0.5555555555555556,\"#d8576b\"],[0.6666666666666666,\"#ed7953\"],[0.7777777777777778,\"#fb9f3a\"],[0.8888888888888888,\"#fdca26\"],[1.0,\"#f0f921\"]],\"type\":\"surface\"}],\"table\":[{\"cells\":{\"fill\":{\"color\":\"#EBF0F8\"},\"line\":{\"color\":\"white\"}},\"header\":{\"fill\":{\"color\":\"#C8D4E3\"},\"line\":{\"color\":\"white\"}},\"type\":\"table\"}]},\"layout\":{\"annotationdefaults\":{\"arrowcolor\":\"#2a3f5f\",\"arrowhead\":0,\"arrowwidth\":1},\"autotypenumbers\":\"strict\",\"coloraxis\":{\"colorbar\":{\"outlinewidth\":0,\"ticks\":\"\"}},\"colorscale\":{\"diverging\":[[0,\"#8e0152\"],[0.1,\"#c51b7d\"],[0.2,\"#de77ae\"],[0.3,\"#f1b6da\"],[0.4,\"#fde0ef\"],[0.5,\"#f7f7f7\"],[0.6,\"#e6f5d0\"],[0.7,\"#b8e186\"],[0.8,\"#7fbc41\"],[0.9,\"#4d9221\"],[1,\"#276419\"]],\"sequential\":[[0.0,\"#0d0887\"],[0.1111111111111111,\"#46039f\"],[0.2222222222222222,\"#7201a8\"],[0.3333333333333333,\"#9c179e\"],[0.4444444444444444,\"#bd3786\"],[0.5555555555555556,\"#d8576b\"],[0.6666666666666666,\"#ed7953\"],[0.7777777777777778,\"#fb9f3a\"],[0.8888888888888888,\"#fdca26\"],[1.0,\"#f0f921\"]],\"sequentialminus\":[[0.0,\"#0d0887\"],[0.1111111111111111,\"#46039f\"],[0.2222222222222222,\"#7201a8\"],[0.3333333333333333,\"#9c179e\"],[0.4444444444444444,\"#bd3786\"],[0.5555555555555556,\"#d8576b\"],[0.6666666666666666,\"#ed7953\"],[0.7777777777777778,\"#fb9f3a\"],[0.8888888888888888,\"#fdca26\"],[1.0,\"#f0f921\"]]},\"colorway\":[\"#636efa\",\"#EF553B\",\"#00cc96\",\"#ab63fa\",\"#FFA15A\",\"#19d3f3\",\"#FF6692\",\"#B6E880\",\"#FF97FF\",\"#FECB52\"],\"font\":{\"color\":\"#2a3f5f\"},\"geo\":{\"bgcolor\":\"white\",\"lakecolor\":\"white\",\"landcolor\":\"#E5ECF6\",\"showlakes\":true,\"showland\":true,\"subunitcolor\":\"white\"},\"hoverlabel\":{\"align\":\"left\"},\"hovermode\":\"closest\",\"mapbox\":{\"style\":\"light\"},\"paper_bgcolor\":\"white\",\"plot_bgcolor\":\"#E5ECF6\",\"polar\":{\"angularaxis\":{\"gridcolor\":\"white\",\"linecolor\":\"white\",\"ticks\":\"\"},\"bgcolor\":\"#E5ECF6\",\"radialaxis\":{\"gridcolor\":\"white\",\"linecolor\":\"white\",\"ticks\":\"\"}},\"scene\":{\"xaxis\":{\"backgroundcolor\":\"#E5ECF6\",\"gridcolor\":\"white\",\"gridwidth\":2,\"linecolor\":\"white\",\"showbackground\":true,\"ticks\":\"\",\"zerolinecolor\":\"white\"},\"yaxis\":{\"backgroundcolor\":\"#E5ECF6\",\"gridcolor\":\"white\",\"gridwidth\":2,\"linecolor\":\"white\",\"showbackground\":true,\"ticks\":\"\",\"zerolinecolor\":\"white\"},\"zaxis\":{\"backgroundcolor\":\"#E5ECF6\",\"gridcolor\":\"white\",\"gridwidth\":2,\"linecolor\":\"white\",\"showbackground\":true,\"ticks\":\"\",\"zerolinecolor\":\"white\"}},\"shapedefaults\":{\"line\":{\"color\":\"#2a3f5f\"}},\"ternary\":{\"aaxis\":{\"gridcolor\":\"white\",\"linecolor\":\"white\",\"ticks\":\"\"},\"baxis\":{\"gridcolor\":\"white\",\"linecolor\":\"white\",\"ticks\":\"\"},\"bgcolor\":\"#E5ECF6\",\"caxis\":{\"gridcolor\":\"white\",\"linecolor\":\"white\",\"ticks\":\"\"}},\"title\":{\"x\":0.05},\"xaxis\":{\"automargin\":true,\"gridcolor\":\"white\",\"linecolor\":\"white\",\"ticks\":\"\",\"title\":{\"standoff\":15},\"zerolinecolor\":\"white\",\"zerolinewidth\":2},\"yaxis\":{\"automargin\":true,\"gridcolor\":\"white\",\"linecolor\":\"white\",\"ticks\":\"\",\"title\":{\"standoff\":15},\"zerolinecolor\":\"white\",\"zerolinewidth\":2}}},\"width\":800,\"height\":700,\"autosize\":true},                        {\"responsive\": true}                    ).then(function(){\n",
       "                            \n",
       "var gd = document.getElementById('c6922b9b-243f-4824-8789-d6ce44a8d220');\n",
       "var x = new MutationObserver(function (mutations, observer) {{\n",
       "        var display = window.getComputedStyle(gd).display;\n",
       "        if (!display || display === 'none') {{\n",
       "            console.log([gd, 'removed!']);\n",
       "            Plotly.purge(gd);\n",
       "            observer.disconnect();\n",
       "        }}\n",
       "}});\n",
       "\n",
       "// Listen for the removal of the full notebook cells\n",
       "var notebookContainer = gd.closest('#notebook-container');\n",
       "if (notebookContainer) {{\n",
       "    x.observe(notebookContainer, {childList: true});\n",
       "}}\n",
       "\n",
       "// Listen for the clearing of the current output cell\n",
       "var outputEl = gd.closest('.output');\n",
       "if (outputEl) {{\n",
       "    x.observe(outputEl, {childList: true});\n",
       "}}\n",
       "\n",
       "                        })                };                });            </script>        </div>"
      ]
     },
     "metadata": {},
     "output_type": "display_data"
    }
   ],
   "source": [
    "#RANDOM\n",
    "\n",
    "fig = go.Figure(data=go.Scatter3d(mode = 'markers',\n",
    "    x= RS_coords['TP'], \n",
    "    y= RS_coords['TN'], \n",
    "    z= RS_coords['FP'],\n",
    "    marker=dict(\n",
    "        size=4, #pallini per quelli assocaiti al threshold quindi in realtà\n",
    "        color=RS_coords['MCC'],\n",
    "        colorscale='Viridis'\n",
    "    ),\n",
    "    line=dict(\n",
    "        color='green',\n",
    "        width=3\n",
    "    )\n",
    "))\n",
    "\n",
    "\n",
    "fig.update_layout(\n",
    "    width=800,\n",
    "    height=700,\n",
    "    autosize=True\n",
    ")\n",
    "\n",
    "\n",
    "fig.add_trace(go.Figure(data=[\n",
    "    go.Mesh3d(\n",
    "        x=[0, 0, 0, 1], \n",
    "        y=[0, 0, 1, 0],\n",
    "        z=[0, 1, 0, 0],\n",
    "\n",
    "        color ='lightgrey',\n",
    "        \n",
    "        opacity = 0.2, #for transparency\n",
    "        \n",
    "        # i, j and k sono i vertici dei triangoli\n",
    "        # here we represent the 4 triangles of the tetrahedron surface\n",
    "        i=[0, 0, 0, 1],\n",
    "        j=[1, 2, 3, 2],\n",
    "        k=[2, 3, 1, 3],\n",
    "        name='y',\n",
    "        showscale=True\n",
    "    )\n",
    "]).data[0])\n",
    "\n",
    "\n",
    "\n",
    "fig.show()"
   ]
  },
  {
   "cell_type": "markdown",
   "id": "ef5d373b",
   "metadata": {},
   "source": [
    "Eventually, I should obtain that the points for the 100 models trained on the 100 splits of the dataset are: \\n\n",
    "* better clustered for the case in which te 100 splits have been stratified (i.e same proportion of 0/1 among training and validation) \n",
    "* less clustered for the random case \n"
   ]
  },
  {
   "cell_type": "markdown",
   "id": "0d2644d5",
   "metadata": {},
   "source": [
    "# 4. Combination of the visualisation in one interactive application"
   ]
  },
  {
   "cell_type": "code",
   "execution_count": 16,
   "id": "59288243",
   "metadata": {},
   "outputs": [
    {
     "data": {
      "text/plain": [
       "'5.5.0'"
      ]
     },
     "execution_count": 16,
     "metadata": {},
     "output_type": "execute_result"
    }
   ],
   "source": [
    "import plotly\n",
    "plotly.__version__"
   ]
  },
  {
   "cell_type": "code",
   "execution_count": null,
   "id": "7966d896",
   "metadata": {},
   "outputs": [],
   "source": []
  },
  {
   "cell_type": "code",
   "execution_count": null,
   "id": "67eeb6f5",
   "metadata": {},
   "outputs": [],
   "source": []
  },
  {
   "cell_type": "code",
   "execution_count": null,
   "id": "66d19418",
   "metadata": {},
   "outputs": [],
   "source": []
  },
  {
   "cell_type": "code",
   "execution_count": null,
   "id": "30f5cd98",
   "metadata": {},
   "outputs": [],
   "source": []
  },
  {
   "cell_type": "code",
   "execution_count": null,
   "id": "8ff7bde8",
   "metadata": {},
   "outputs": [],
   "source": []
  },
  {
   "cell_type": "markdown",
   "id": "ec83fee4",
   "metadata": {},
   "source": [
    "# Dataset più sbilanciato per marcare la differenza"
   ]
  },
  {
   "cell_type": "markdown",
   "id": "d832c4ae",
   "metadata": {},
   "source": [
    "qui mi soono cercata anche un dataset più sbilanciato per marcare ancora di più la differenza "
   ]
  },
  {
   "cell_type": "code",
   "execution_count": null,
   "id": "6624adf8",
   "metadata": {},
   "outputs": [],
   "source": [
    "#data = pd.read_csv('data/creditcard.csv', header = 0, on_bad_lines='skip')"
   ]
  },
  {
   "cell_type": "code",
   "execution_count": 14,
   "id": "2071b2fc",
   "metadata": {},
   "outputs": [],
   "source": [
    "unbalanced_data = pd.read_csv('data/creditcard.csv', header = 0, on_bad_lines='skip')\n",
    "\n",
    "#mi creo un dataset sbilanciato ma che sia solo un subset del dataset originario che ha molti record\n",
    "#e per me al momento è più importante arrivare a una predizione \n",
    "\n",
    "positives = unbalanced_data[unbalanced_data['Class']==1].head(300)\n",
    "negatives = unbalanced_data[unbalanced_data['Class']==0].head(10000)\n",
    "\n",
    "data = pd.concat([positives, negatives],ignore_index=True)\n",
    "\n",
    "#target variable\n",
    "y = data['Class']\n",
    "y\n",
    "\n",
    "#predictors\n",
    "x = data.copy()\n",
    "x.drop('Class', inplace=True, axis=1)\n",
    "x"
   ]
  },
  {
   "cell_type": "code",
   "execution_count": null,
   "id": "79a0fef4",
   "metadata": {},
   "outputs": [],
   "source": []
  }
 ],
 "metadata": {
  "kernelspec": {
   "display_name": "Python 3 (ipykernel)",
   "language": "python",
   "name": "python3"
  },
  "language_info": {
   "codemirror_mode": {
    "name": "ipython",
    "version": 3
   },
   "file_extension": ".py",
   "mimetype": "text/x-python",
   "name": "python",
   "nbconvert_exporter": "python",
   "pygments_lexer": "ipython3",
   "version": "3.10.2"
  }
 },
 "nbformat": 4,
 "nbformat_minor": 5
}
